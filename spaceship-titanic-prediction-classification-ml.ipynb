{
 "cells": [
  {
   "cell_type": "code",
   "execution_count": 1,
   "id": "84a4257a",
   "metadata": {
    "_cell_guid": "b1076dfc-b9ad-4769-8c92-a6c4dae69d19",
    "_uuid": "8f2839f25d086af736a60e9eeb907d3b93b6e0e5",
    "execution": {
     "iopub.execute_input": "2023-03-20T15:25:12.975855Z",
     "iopub.status.busy": "2023-03-20T15:25:12.975365Z",
     "iopub.status.idle": "2023-03-20T15:25:12.989755Z",
     "shell.execute_reply": "2023-03-20T15:25:12.988741Z"
    },
    "papermill": {
     "duration": 0.03015,
     "end_time": "2023-03-20T15:25:12.992435",
     "exception": false,
     "start_time": "2023-03-20T15:25:12.962285",
     "status": "completed"
    },
    "tags": []
   },
   "outputs": [
    {
     "name": "stdout",
     "output_type": "stream",
     "text": [
      "/kaggle/input/spaceship-titanic/sample_submission.csv\n",
      "/kaggle/input/spaceship-titanic/train.csv\n",
      "/kaggle/input/spaceship-titanic/test.csv\n"
     ]
    }
   ],
   "source": [
    "# This Python 3 environment comes with many helpful analytics libraries installed\n",
    "# It is defined by the kaggle/python Docker image: https://github.com/kaggle/docker-python\n",
    "# For example, here's several helpful packages to load\n",
    "\n",
    "import numpy as np # linear algebra\n",
    "import pandas as pd # data processing, CSV file I/O (e.g. pd.read_csv)\n",
    "\n",
    "# Input data files are available in the read-only \"../input/\" directory\n",
    "# For example, running this (by clicking run or pressing Shift+Enter) will list all files under the input directory\n",
    "\n",
    "import os\n",
    "for dirname, _, filenames in os.walk('/kaggle/input'):\n",
    "    for filename in filenames:\n",
    "        print(os.path.join(dirname, filename))\n",
    "\n",
    "# You can write up to 20GB to the current directory (/kaggle/working/) that gets preserved as output when you create a version using \"Save & Run All\" \n",
    "# You can also write temporary files to /kaggle/temp/, but they won't be saved outside of the current session"
   ]
  },
  {
   "cell_type": "code",
   "execution_count": 2,
   "id": "f2e9c024",
   "metadata": {
    "execution": {
     "iopub.execute_input": "2023-03-20T15:25:13.016310Z",
     "iopub.status.busy": "2023-03-20T15:25:13.015642Z",
     "iopub.status.idle": "2023-03-20T15:25:14.081490Z",
     "shell.execute_reply": "2023-03-20T15:25:14.080050Z"
    },
    "papermill": {
     "duration": 1.08123,
     "end_time": "2023-03-20T15:25:14.084845",
     "exception": false,
     "start_time": "2023-03-20T15:25:13.003615",
     "status": "completed"
    },
    "tags": []
   },
   "outputs": [],
   "source": [
    "import pandas as pd\n",
    "import numpy as np\n",
    "import matplotlib.pyplot as plt\n",
    "import seaborn as sns"
   ]
  },
  {
   "cell_type": "markdown",
   "id": "c2746607",
   "metadata": {
    "papermill": {
     "duration": 0.01035,
     "end_time": "2023-03-20T15:25:14.106353",
     "exception": false,
     "start_time": "2023-03-20T15:25:14.096003",
     "status": "completed"
    },
    "tags": []
   },
   "source": [
    "We have two datasets which are train and test datasets. We'll combine these datasets into one at cleaning and exploration stages. Then we will split the datasets into train and test again.\n",
    "\n",
    "To indicate the source of datasets, we will add a column indicating \"train\" or \"test\"."
   ]
  },
  {
   "cell_type": "code",
   "execution_count": 3,
   "id": "3e9bfe85",
   "metadata": {
    "execution": {
     "iopub.execute_input": "2023-03-20T15:25:14.130247Z",
     "iopub.status.busy": "2023-03-20T15:25:14.129842Z",
     "iopub.status.idle": "2023-03-20T15:25:14.217875Z",
     "shell.execute_reply": "2023-03-20T15:25:14.216258Z"
    },
    "papermill": {
     "duration": 0.103979,
     "end_time": "2023-03-20T15:25:14.220463",
     "exception": false,
     "start_time": "2023-03-20T15:25:14.116484",
     "status": "completed"
    },
    "tags": []
   },
   "outputs": [
    {
     "name": "stdout",
     "output_type": "stream",
     "text": [
      "train:  (8693, 14) test:  (4277, 13)\n"
     ]
    }
   ],
   "source": [
    "train = pd.read_csv('/kaggle/input/spaceship-titanic/train.csv')\n",
    "test = pd.read_csv('/kaggle/input/spaceship-titanic/test.csv')\n",
    "\n",
    "#shape of train and test\n",
    "print('train: ',train.shape,'test: ',test.shape)"
   ]
  },
  {
   "cell_type": "markdown",
   "id": "90859b0a",
   "metadata": {
    "execution": {
     "iopub.execute_input": "2023-03-20T10:28:44.287615Z",
     "iopub.status.busy": "2023-03-20T10:28:44.286817Z",
     "iopub.status.idle": "2023-03-20T10:28:44.294509Z",
     "shell.execute_reply": "2023-03-20T10:28:44.292645Z",
     "shell.execute_reply.started": "2023-03-20T10:28:44.287574Z"
    },
    "papermill": {
     "duration": 0.010102,
     "end_time": "2023-03-20T15:25:14.240802",
     "exception": false,
     "start_time": "2023-03-20T15:25:14.230700",
     "status": "completed"
    },
    "tags": []
   },
   "source": [
    "The number of columns are not equal. Take a look into the column names."
   ]
  },
  {
   "cell_type": "code",
   "execution_count": 4,
   "id": "cd911a8b",
   "metadata": {
    "execution": {
     "iopub.execute_input": "2023-03-20T15:25:14.263648Z",
     "iopub.status.busy": "2023-03-20T15:25:14.263207Z",
     "iopub.status.idle": "2023-03-20T15:25:14.271959Z",
     "shell.execute_reply": "2023-03-20T15:25:14.271085Z"
    },
    "papermill": {
     "duration": 0.023887,
     "end_time": "2023-03-20T15:25:14.274859",
     "exception": false,
     "start_time": "2023-03-20T15:25:14.250972",
     "status": "completed"
    },
    "tags": []
   },
   "outputs": [
    {
     "name": "stdout",
     "output_type": "stream",
     "text": [
      "missing col: Transported\n"
     ]
    }
   ],
   "source": [
    "test_col = test.columns\n",
    "for col in train:\n",
    "    if col in test_col:\n",
    "        pass\n",
    "    else:\n",
    "        print('missing col:',col)"
   ]
  },
  {
   "cell_type": "markdown",
   "id": "8f73ee0c",
   "metadata": {
    "papermill": {
     "duration": 0.010221,
     "end_time": "2023-03-20T15:25:14.295511",
     "exception": false,
     "start_time": "2023-03-20T15:25:14.285290",
     "status": "completed"
    },
    "tags": []
   },
   "source": [
    "The missing column: \"Transported\" is the target variable of the dataset. Test dataset \"Transported\" should be predicted. Hence, we can combine the dataset now without including this column."
   ]
  },
  {
   "cell_type": "code",
   "execution_count": 5,
   "id": "2c704728",
   "metadata": {
    "execution": {
     "iopub.execute_input": "2023-03-20T15:25:14.318917Z",
     "iopub.status.busy": "2023-03-20T15:25:14.318481Z",
     "iopub.status.idle": "2023-03-20T15:25:14.352594Z",
     "shell.execute_reply": "2023-03-20T15:25:14.351631Z"
    },
    "papermill": {
     "duration": 0.048699,
     "end_time": "2023-03-20T15:25:14.355124",
     "exception": false,
     "start_time": "2023-03-20T15:25:14.306425",
     "status": "completed"
    },
    "tags": []
   },
   "outputs": [
    {
     "data": {
      "text/html": [
       "<div>\n",
       "<style scoped>\n",
       "    .dataframe tbody tr th:only-of-type {\n",
       "        vertical-align: middle;\n",
       "    }\n",
       "\n",
       "    .dataframe tbody tr th {\n",
       "        vertical-align: top;\n",
       "    }\n",
       "\n",
       "    .dataframe thead th {\n",
       "        text-align: right;\n",
       "    }\n",
       "</style>\n",
       "<table border=\"1\" class=\"dataframe\">\n",
       "  <thead>\n",
       "    <tr style=\"text-align: right;\">\n",
       "      <th></th>\n",
       "      <th>PassengerId</th>\n",
       "      <th>HomePlanet</th>\n",
       "      <th>CryoSleep</th>\n",
       "      <th>Cabin</th>\n",
       "      <th>Destination</th>\n",
       "      <th>Age</th>\n",
       "      <th>VIP</th>\n",
       "      <th>RoomService</th>\n",
       "      <th>FoodCourt</th>\n",
       "      <th>ShoppingMall</th>\n",
       "      <th>Spa</th>\n",
       "      <th>VRDeck</th>\n",
       "      <th>Name</th>\n",
       "      <th>Transported</th>\n",
       "    </tr>\n",
       "  </thead>\n",
       "  <tbody>\n",
       "    <tr>\n",
       "      <th>0</th>\n",
       "      <td>0001_01</td>\n",
       "      <td>Europa</td>\n",
       "      <td>False</td>\n",
       "      <td>B/0/P</td>\n",
       "      <td>TRAPPIST-1e</td>\n",
       "      <td>39.0</td>\n",
       "      <td>False</td>\n",
       "      <td>0.0</td>\n",
       "      <td>0.0</td>\n",
       "      <td>0.0</td>\n",
       "      <td>0.0</td>\n",
       "      <td>0.0</td>\n",
       "      <td>Maham Ofracculy</td>\n",
       "      <td>False</td>\n",
       "    </tr>\n",
       "    <tr>\n",
       "      <th>1</th>\n",
       "      <td>0002_01</td>\n",
       "      <td>Earth</td>\n",
       "      <td>False</td>\n",
       "      <td>F/0/S</td>\n",
       "      <td>TRAPPIST-1e</td>\n",
       "      <td>24.0</td>\n",
       "      <td>False</td>\n",
       "      <td>109.0</td>\n",
       "      <td>9.0</td>\n",
       "      <td>25.0</td>\n",
       "      <td>549.0</td>\n",
       "      <td>44.0</td>\n",
       "      <td>Juanna Vines</td>\n",
       "      <td>True</td>\n",
       "    </tr>\n",
       "    <tr>\n",
       "      <th>2</th>\n",
       "      <td>0003_01</td>\n",
       "      <td>Europa</td>\n",
       "      <td>False</td>\n",
       "      <td>A/0/S</td>\n",
       "      <td>TRAPPIST-1e</td>\n",
       "      <td>58.0</td>\n",
       "      <td>True</td>\n",
       "      <td>43.0</td>\n",
       "      <td>3576.0</td>\n",
       "      <td>0.0</td>\n",
       "      <td>6715.0</td>\n",
       "      <td>49.0</td>\n",
       "      <td>Altark Susent</td>\n",
       "      <td>False</td>\n",
       "    </tr>\n",
       "    <tr>\n",
       "      <th>3</th>\n",
       "      <td>0003_02</td>\n",
       "      <td>Europa</td>\n",
       "      <td>False</td>\n",
       "      <td>A/0/S</td>\n",
       "      <td>TRAPPIST-1e</td>\n",
       "      <td>33.0</td>\n",
       "      <td>False</td>\n",
       "      <td>0.0</td>\n",
       "      <td>1283.0</td>\n",
       "      <td>371.0</td>\n",
       "      <td>3329.0</td>\n",
       "      <td>193.0</td>\n",
       "      <td>Solam Susent</td>\n",
       "      <td>False</td>\n",
       "    </tr>\n",
       "    <tr>\n",
       "      <th>4</th>\n",
       "      <td>0004_01</td>\n",
       "      <td>Earth</td>\n",
       "      <td>False</td>\n",
       "      <td>F/1/S</td>\n",
       "      <td>TRAPPIST-1e</td>\n",
       "      <td>16.0</td>\n",
       "      <td>False</td>\n",
       "      <td>303.0</td>\n",
       "      <td>70.0</td>\n",
       "      <td>151.0</td>\n",
       "      <td>565.0</td>\n",
       "      <td>2.0</td>\n",
       "      <td>Willy Santantines</td>\n",
       "      <td>True</td>\n",
       "    </tr>\n",
       "  </tbody>\n",
       "</table>\n",
       "</div>"
      ],
      "text/plain": [
       "  PassengerId HomePlanet CryoSleep  Cabin  Destination   Age    VIP  \\\n",
       "0     0001_01     Europa     False  B/0/P  TRAPPIST-1e  39.0  False   \n",
       "1     0002_01      Earth     False  F/0/S  TRAPPIST-1e  24.0  False   \n",
       "2     0003_01     Europa     False  A/0/S  TRAPPIST-1e  58.0   True   \n",
       "3     0003_02     Europa     False  A/0/S  TRAPPIST-1e  33.0  False   \n",
       "4     0004_01      Earth     False  F/1/S  TRAPPIST-1e  16.0  False   \n",
       "\n",
       "   RoomService  FoodCourt  ShoppingMall     Spa  VRDeck               Name  \\\n",
       "0          0.0        0.0           0.0     0.0     0.0    Maham Ofracculy   \n",
       "1        109.0        9.0          25.0   549.0    44.0       Juanna Vines   \n",
       "2         43.0     3576.0           0.0  6715.0    49.0      Altark Susent   \n",
       "3          0.0     1283.0         371.0  3329.0   193.0       Solam Susent   \n",
       "4        303.0       70.0         151.0   565.0     2.0  Willy Santantines   \n",
       "\n",
       "   Transported  \n",
       "0        False  \n",
       "1         True  \n",
       "2        False  \n",
       "3        False  \n",
       "4         True  "
      ]
     },
     "execution_count": 5,
     "metadata": {},
     "output_type": "execute_result"
    }
   ],
   "source": [
    "train.head()"
   ]
  },
  {
   "cell_type": "code",
   "execution_count": 6,
   "id": "6f2a5ccc",
   "metadata": {
    "execution": {
     "iopub.execute_input": "2023-03-20T15:25:14.379657Z",
     "iopub.status.busy": "2023-03-20T15:25:14.378123Z",
     "iopub.status.idle": "2023-03-20T15:25:14.392164Z",
     "shell.execute_reply": "2023-03-20T15:25:14.390991Z"
    },
    "papermill": {
     "duration": 0.028791,
     "end_time": "2023-03-20T15:25:14.394768",
     "exception": false,
     "start_time": "2023-03-20T15:25:14.365977",
     "status": "completed"
    },
    "tags": []
   },
   "outputs": [
    {
     "data": {
      "text/plain": [
       "PassengerId       0\n",
       "HomePlanet      201\n",
       "CryoSleep       217\n",
       "Cabin           199\n",
       "Destination     182\n",
       "Age             179\n",
       "VIP             203\n",
       "RoomService     181\n",
       "FoodCourt       183\n",
       "ShoppingMall    208\n",
       "Spa             183\n",
       "VRDeck          188\n",
       "Name            200\n",
       "Transported       0\n",
       "dtype: int64"
      ]
     },
     "execution_count": 6,
     "metadata": {},
     "output_type": "execute_result"
    }
   ],
   "source": [
    "#check na\n",
    "train.isnull().sum()"
   ]
  },
  {
   "cell_type": "code",
   "execution_count": 7,
   "id": "94babdb1",
   "metadata": {
    "execution": {
     "iopub.execute_input": "2023-03-20T15:25:14.419217Z",
     "iopub.status.busy": "2023-03-20T15:25:14.417835Z",
     "iopub.status.idle": "2023-03-20T15:25:14.430501Z",
     "shell.execute_reply": "2023-03-20T15:25:14.429518Z"
    },
    "papermill": {
     "duration": 0.027883,
     "end_time": "2023-03-20T15:25:14.433198",
     "exception": false,
     "start_time": "2023-03-20T15:25:14.405315",
     "status": "completed"
    },
    "tags": []
   },
   "outputs": [
    {
     "data": {
      "text/plain": [
       "PassengerId       0\n",
       "HomePlanet       87\n",
       "CryoSleep        93\n",
       "Cabin           100\n",
       "Destination      92\n",
       "Age              91\n",
       "VIP              93\n",
       "RoomService      82\n",
       "FoodCourt       106\n",
       "ShoppingMall     98\n",
       "Spa             101\n",
       "VRDeck           80\n",
       "Name             94\n",
       "dtype: int64"
      ]
     },
     "execution_count": 7,
     "metadata": {},
     "output_type": "execute_result"
    }
   ],
   "source": [
    "test.isnull().sum()"
   ]
  },
  {
   "cell_type": "markdown",
   "id": "e38863ba",
   "metadata": {
    "papermill": {
     "duration": 0.01117,
     "end_time": "2023-03-20T15:25:14.455434",
     "exception": false,
     "start_time": "2023-03-20T15:25:14.444264",
     "status": "completed"
    },
    "tags": []
   },
   "source": [
    "# Data Cleaning\n",
    "Filling missing values in both categorical and numerical variables."
   ]
  },
  {
   "cell_type": "code",
   "execution_count": 8,
   "id": "f29385b4",
   "metadata": {
    "execution": {
     "iopub.execute_input": "2023-03-20T15:25:14.478871Z",
     "iopub.status.busy": "2023-03-20T15:25:14.478161Z",
     "iopub.status.idle": "2023-03-20T15:25:14.513701Z",
     "shell.execute_reply": "2023-03-20T15:25:14.512651Z"
    },
    "papermill": {
     "duration": 0.050673,
     "end_time": "2023-03-20T15:25:14.516668",
     "exception": false,
     "start_time": "2023-03-20T15:25:14.465995",
     "status": "completed"
    },
    "tags": []
   },
   "outputs": [
    {
     "name": "stdout",
     "output_type": "stream",
     "text": [
      "0 0\n"
     ]
    }
   ],
   "source": [
    "a = train.duplicated().sum()\n",
    "b = test.duplicated().sum()\n",
    "print(a, b)"
   ]
  },
  {
   "cell_type": "markdown",
   "id": "829412ef",
   "metadata": {
    "execution": {
     "iopub.execute_input": "2023-03-20T10:44:06.153839Z",
     "iopub.status.busy": "2023-03-20T10:44:06.153434Z",
     "iopub.status.idle": "2023-03-20T10:44:06.173605Z",
     "shell.execute_reply": "2023-03-20T10:44:06.171564Z",
     "shell.execute_reply.started": "2023-03-20T10:44:06.153805Z"
    },
    "papermill": {
     "duration": 0.010779,
     "end_time": "2023-03-20T15:25:14.538255",
     "exception": false,
     "start_time": "2023-03-20T15:25:14.527476",
     "status": "completed"
    },
    "tags": []
   },
   "source": [
    "Let's explore more to understand the dataset. [EDA]"
   ]
  },
  {
   "cell_type": "code",
   "execution_count": 9,
   "id": "cbbf889b",
   "metadata": {
    "execution": {
     "iopub.execute_input": "2023-03-20T15:25:14.562066Z",
     "iopub.status.busy": "2023-03-20T15:25:14.561655Z",
     "iopub.status.idle": "2023-03-20T15:25:14.611694Z",
     "shell.execute_reply": "2023-03-20T15:25:14.610567Z"
    },
    "papermill": {
     "duration": 0.065517,
     "end_time": "2023-03-20T15:25:14.614584",
     "exception": false,
     "start_time": "2023-03-20T15:25:14.549067",
     "status": "completed"
    },
    "tags": []
   },
   "outputs": [],
   "source": [
    "#Fill missing values \n",
    "def filling_missing_value(df):\n",
    "    for col in df:\n",
    "        df[col].fillna(df[col].mode()[0], inplace=True)\n",
    "    return df\n",
    "train = filling_missing_value(train)\n",
    "test = filling_missing_value(test)"
   ]
  },
  {
   "cell_type": "code",
   "execution_count": 10,
   "id": "5eb7ec15",
   "metadata": {
    "execution": {
     "iopub.execute_input": "2023-03-20T15:25:14.638581Z",
     "iopub.status.busy": "2023-03-20T15:25:14.638114Z",
     "iopub.status.idle": "2023-03-20T15:25:14.650688Z",
     "shell.execute_reply": "2023-03-20T15:25:14.649514Z"
    },
    "papermill": {
     "duration": 0.027778,
     "end_time": "2023-03-20T15:25:14.653182",
     "exception": false,
     "start_time": "2023-03-20T15:25:14.625404",
     "status": "completed"
    },
    "tags": []
   },
   "outputs": [
    {
     "data": {
      "text/plain": [
       "PassengerId     0\n",
       "HomePlanet      0\n",
       "CryoSleep       0\n",
       "Cabin           0\n",
       "Destination     0\n",
       "Age             0\n",
       "VIP             0\n",
       "RoomService     0\n",
       "FoodCourt       0\n",
       "ShoppingMall    0\n",
       "Spa             0\n",
       "VRDeck          0\n",
       "Name            0\n",
       "Transported     0\n",
       "dtype: int64"
      ]
     },
     "execution_count": 10,
     "metadata": {},
     "output_type": "execute_result"
    }
   ],
   "source": [
    "train.isnull().sum()"
   ]
  },
  {
   "cell_type": "code",
   "execution_count": 11,
   "id": "92570c78",
   "metadata": {
    "execution": {
     "iopub.execute_input": "2023-03-20T15:25:14.677246Z",
     "iopub.status.busy": "2023-03-20T15:25:14.676575Z",
     "iopub.status.idle": "2023-03-20T15:25:14.703102Z",
     "shell.execute_reply": "2023-03-20T15:25:14.701863Z"
    },
    "papermill": {
     "duration": 0.041661,
     "end_time": "2023-03-20T15:25:14.705710",
     "exception": false,
     "start_time": "2023-03-20T15:25:14.664049",
     "status": "completed"
    },
    "tags": []
   },
   "outputs": [
    {
     "data": {
      "text/html": [
       "<div>\n",
       "<style scoped>\n",
       "    .dataframe tbody tr th:only-of-type {\n",
       "        vertical-align: middle;\n",
       "    }\n",
       "\n",
       "    .dataframe tbody tr th {\n",
       "        vertical-align: top;\n",
       "    }\n",
       "\n",
       "    .dataframe thead th {\n",
       "        text-align: right;\n",
       "    }\n",
       "</style>\n",
       "<table border=\"1\" class=\"dataframe\">\n",
       "  <thead>\n",
       "    <tr style=\"text-align: right;\">\n",
       "      <th></th>\n",
       "      <th>PassengerId</th>\n",
       "      <th>HomePlanet</th>\n",
       "      <th>CryoSleep</th>\n",
       "      <th>Cabin</th>\n",
       "      <th>Destination</th>\n",
       "      <th>Age</th>\n",
       "      <th>VIP</th>\n",
       "      <th>RoomService</th>\n",
       "      <th>FoodCourt</th>\n",
       "      <th>ShoppingMall</th>\n",
       "      <th>Spa</th>\n",
       "      <th>VRDeck</th>\n",
       "      <th>Name</th>\n",
       "      <th>output</th>\n",
       "    </tr>\n",
       "  </thead>\n",
       "  <tbody>\n",
       "    <tr>\n",
       "      <th>0</th>\n",
       "      <td>0001_01</td>\n",
       "      <td>Europa</td>\n",
       "      <td>False</td>\n",
       "      <td>B/0/P</td>\n",
       "      <td>TRAPPIST-1e</td>\n",
       "      <td>39.0</td>\n",
       "      <td>False</td>\n",
       "      <td>0.0</td>\n",
       "      <td>0.0</td>\n",
       "      <td>0.0</td>\n",
       "      <td>0.0</td>\n",
       "      <td>0.0</td>\n",
       "      <td>Maham Ofracculy</td>\n",
       "      <td>0</td>\n",
       "    </tr>\n",
       "    <tr>\n",
       "      <th>1</th>\n",
       "      <td>0002_01</td>\n",
       "      <td>Earth</td>\n",
       "      <td>False</td>\n",
       "      <td>F/0/S</td>\n",
       "      <td>TRAPPIST-1e</td>\n",
       "      <td>24.0</td>\n",
       "      <td>False</td>\n",
       "      <td>109.0</td>\n",
       "      <td>9.0</td>\n",
       "      <td>25.0</td>\n",
       "      <td>549.0</td>\n",
       "      <td>44.0</td>\n",
       "      <td>Juanna Vines</td>\n",
       "      <td>1</td>\n",
       "    </tr>\n",
       "    <tr>\n",
       "      <th>2</th>\n",
       "      <td>0003_01</td>\n",
       "      <td>Europa</td>\n",
       "      <td>False</td>\n",
       "      <td>A/0/S</td>\n",
       "      <td>TRAPPIST-1e</td>\n",
       "      <td>58.0</td>\n",
       "      <td>True</td>\n",
       "      <td>43.0</td>\n",
       "      <td>3576.0</td>\n",
       "      <td>0.0</td>\n",
       "      <td>6715.0</td>\n",
       "      <td>49.0</td>\n",
       "      <td>Altark Susent</td>\n",
       "      <td>0</td>\n",
       "    </tr>\n",
       "    <tr>\n",
       "      <th>3</th>\n",
       "      <td>0003_02</td>\n",
       "      <td>Europa</td>\n",
       "      <td>False</td>\n",
       "      <td>A/0/S</td>\n",
       "      <td>TRAPPIST-1e</td>\n",
       "      <td>33.0</td>\n",
       "      <td>False</td>\n",
       "      <td>0.0</td>\n",
       "      <td>1283.0</td>\n",
       "      <td>371.0</td>\n",
       "      <td>3329.0</td>\n",
       "      <td>193.0</td>\n",
       "      <td>Solam Susent</td>\n",
       "      <td>0</td>\n",
       "    </tr>\n",
       "    <tr>\n",
       "      <th>4</th>\n",
       "      <td>0004_01</td>\n",
       "      <td>Earth</td>\n",
       "      <td>False</td>\n",
       "      <td>F/1/S</td>\n",
       "      <td>TRAPPIST-1e</td>\n",
       "      <td>16.0</td>\n",
       "      <td>False</td>\n",
       "      <td>303.0</td>\n",
       "      <td>70.0</td>\n",
       "      <td>151.0</td>\n",
       "      <td>565.0</td>\n",
       "      <td>2.0</td>\n",
       "      <td>Willy Santantines</td>\n",
       "      <td>1</td>\n",
       "    </tr>\n",
       "  </tbody>\n",
       "</table>\n",
       "</div>"
      ],
      "text/plain": [
       "  PassengerId HomePlanet  CryoSleep  Cabin  Destination   Age    VIP  \\\n",
       "0     0001_01     Europa      False  B/0/P  TRAPPIST-1e  39.0  False   \n",
       "1     0002_01      Earth      False  F/0/S  TRAPPIST-1e  24.0  False   \n",
       "2     0003_01     Europa      False  A/0/S  TRAPPIST-1e  58.0   True   \n",
       "3     0003_02     Europa      False  A/0/S  TRAPPIST-1e  33.0  False   \n",
       "4     0004_01      Earth      False  F/1/S  TRAPPIST-1e  16.0  False   \n",
       "\n",
       "   RoomService  FoodCourt  ShoppingMall     Spa  VRDeck               Name  \\\n",
       "0          0.0        0.0           0.0     0.0     0.0    Maham Ofracculy   \n",
       "1        109.0        9.0          25.0   549.0    44.0       Juanna Vines   \n",
       "2         43.0     3576.0           0.0  6715.0    49.0      Altark Susent   \n",
       "3          0.0     1283.0         371.0  3329.0   193.0       Solam Susent   \n",
       "4        303.0       70.0         151.0   565.0     2.0  Willy Santantines   \n",
       "\n",
       "   output  \n",
       "0       0  \n",
       "1       1  \n",
       "2       0  \n",
       "3       0  \n",
       "4       1  "
      ]
     },
     "execution_count": 11,
     "metadata": {},
     "output_type": "execute_result"
    }
   ],
   "source": [
    "#change data type of 'Transported' in train set.\n",
    "train['output'] = pd.Categorical(train['Transported']).codes\n",
    "train = train.drop('Transported', axis = 1)\n",
    "train.head()"
   ]
  },
  {
   "cell_type": "code",
   "execution_count": 12,
   "id": "ab155eec",
   "metadata": {
    "execution": {
     "iopub.execute_input": "2023-03-20T15:25:14.731009Z",
     "iopub.status.busy": "2023-03-20T15:25:14.729626Z",
     "iopub.status.idle": "2023-03-20T15:25:14.759139Z",
     "shell.execute_reply": "2023-03-20T15:25:14.757764Z"
    },
    "papermill": {
     "duration": 0.045205,
     "end_time": "2023-03-20T15:25:14.762212",
     "exception": false,
     "start_time": "2023-03-20T15:25:14.717007",
     "status": "completed"
    },
    "tags": []
   },
   "outputs": [
    {
     "data": {
      "text/html": [
       "<div>\n",
       "<style scoped>\n",
       "    .dataframe tbody tr th:only-of-type {\n",
       "        vertical-align: middle;\n",
       "    }\n",
       "\n",
       "    .dataframe tbody tr th {\n",
       "        vertical-align: top;\n",
       "    }\n",
       "\n",
       "    .dataframe thead th {\n",
       "        text-align: right;\n",
       "    }\n",
       "</style>\n",
       "<table border=\"1\" class=\"dataframe\">\n",
       "  <thead>\n",
       "    <tr style=\"text-align: right;\">\n",
       "      <th></th>\n",
       "      <th>PassengerId</th>\n",
       "      <th>HomePlanet</th>\n",
       "      <th>CryoSleep</th>\n",
       "      <th>Cabin</th>\n",
       "      <th>Destination</th>\n",
       "      <th>Age</th>\n",
       "      <th>VIP</th>\n",
       "      <th>RoomService</th>\n",
       "      <th>FoodCourt</th>\n",
       "      <th>ShoppingMall</th>\n",
       "      <th>Spa</th>\n",
       "      <th>VRDeck</th>\n",
       "      <th>Name</th>\n",
       "      <th>output</th>\n",
       "      <th>set</th>\n",
       "    </tr>\n",
       "  </thead>\n",
       "  <tbody>\n",
       "    <tr>\n",
       "      <th>0</th>\n",
       "      <td>0001_01</td>\n",
       "      <td>Europa</td>\n",
       "      <td>False</td>\n",
       "      <td>B/0/P</td>\n",
       "      <td>TRAPPIST-1e</td>\n",
       "      <td>39.0</td>\n",
       "      <td>False</td>\n",
       "      <td>0.0</td>\n",
       "      <td>0.0</td>\n",
       "      <td>0.0</td>\n",
       "      <td>0.0</td>\n",
       "      <td>0.0</td>\n",
       "      <td>Maham Ofracculy</td>\n",
       "      <td>0.0</td>\n",
       "      <td>train</td>\n",
       "    </tr>\n",
       "    <tr>\n",
       "      <th>1</th>\n",
       "      <td>0002_01</td>\n",
       "      <td>Earth</td>\n",
       "      <td>False</td>\n",
       "      <td>F/0/S</td>\n",
       "      <td>TRAPPIST-1e</td>\n",
       "      <td>24.0</td>\n",
       "      <td>False</td>\n",
       "      <td>109.0</td>\n",
       "      <td>9.0</td>\n",
       "      <td>25.0</td>\n",
       "      <td>549.0</td>\n",
       "      <td>44.0</td>\n",
       "      <td>Juanna Vines</td>\n",
       "      <td>1.0</td>\n",
       "      <td>train</td>\n",
       "    </tr>\n",
       "    <tr>\n",
       "      <th>2</th>\n",
       "      <td>0003_01</td>\n",
       "      <td>Europa</td>\n",
       "      <td>False</td>\n",
       "      <td>A/0/S</td>\n",
       "      <td>TRAPPIST-1e</td>\n",
       "      <td>58.0</td>\n",
       "      <td>True</td>\n",
       "      <td>43.0</td>\n",
       "      <td>3576.0</td>\n",
       "      <td>0.0</td>\n",
       "      <td>6715.0</td>\n",
       "      <td>49.0</td>\n",
       "      <td>Altark Susent</td>\n",
       "      <td>0.0</td>\n",
       "      <td>train</td>\n",
       "    </tr>\n",
       "    <tr>\n",
       "      <th>3</th>\n",
       "      <td>0003_02</td>\n",
       "      <td>Europa</td>\n",
       "      <td>False</td>\n",
       "      <td>A/0/S</td>\n",
       "      <td>TRAPPIST-1e</td>\n",
       "      <td>33.0</td>\n",
       "      <td>False</td>\n",
       "      <td>0.0</td>\n",
       "      <td>1283.0</td>\n",
       "      <td>371.0</td>\n",
       "      <td>3329.0</td>\n",
       "      <td>193.0</td>\n",
       "      <td>Solam Susent</td>\n",
       "      <td>0.0</td>\n",
       "      <td>train</td>\n",
       "    </tr>\n",
       "    <tr>\n",
       "      <th>4</th>\n",
       "      <td>0004_01</td>\n",
       "      <td>Earth</td>\n",
       "      <td>False</td>\n",
       "      <td>F/1/S</td>\n",
       "      <td>TRAPPIST-1e</td>\n",
       "      <td>16.0</td>\n",
       "      <td>False</td>\n",
       "      <td>303.0</td>\n",
       "      <td>70.0</td>\n",
       "      <td>151.0</td>\n",
       "      <td>565.0</td>\n",
       "      <td>2.0</td>\n",
       "      <td>Willy Santantines</td>\n",
       "      <td>1.0</td>\n",
       "      <td>train</td>\n",
       "    </tr>\n",
       "  </tbody>\n",
       "</table>\n",
       "</div>"
      ],
      "text/plain": [
       "  PassengerId HomePlanet  CryoSleep  Cabin  Destination   Age    VIP  \\\n",
       "0     0001_01     Europa      False  B/0/P  TRAPPIST-1e  39.0  False   \n",
       "1     0002_01      Earth      False  F/0/S  TRAPPIST-1e  24.0  False   \n",
       "2     0003_01     Europa      False  A/0/S  TRAPPIST-1e  58.0   True   \n",
       "3     0003_02     Europa      False  A/0/S  TRAPPIST-1e  33.0  False   \n",
       "4     0004_01      Earth      False  F/1/S  TRAPPIST-1e  16.0  False   \n",
       "\n",
       "   RoomService  FoodCourt  ShoppingMall     Spa  VRDeck               Name  \\\n",
       "0          0.0        0.0           0.0     0.0     0.0    Maham Ofracculy   \n",
       "1        109.0        9.0          25.0   549.0    44.0       Juanna Vines   \n",
       "2         43.0     3576.0           0.0  6715.0    49.0      Altark Susent   \n",
       "3          0.0     1283.0         371.0  3329.0   193.0       Solam Susent   \n",
       "4        303.0       70.0         151.0   565.0     2.0  Willy Santantines   \n",
       "\n",
       "   output    set  \n",
       "0     0.0  train  \n",
       "1     1.0  train  \n",
       "2     0.0  train  \n",
       "3     0.0  train  \n",
       "4     1.0  train  "
      ]
     },
     "execution_count": 12,
     "metadata": {},
     "output_type": "execute_result"
    }
   ],
   "source": [
    "train['set'] = 'train'\n",
    "test['set'] = 'test'\n",
    "df = pd.concat([train,test])\n",
    "df.head()\n",
    "#df.tail()"
   ]
  },
  {
   "cell_type": "markdown",
   "id": "f9541b4e",
   "metadata": {
    "papermill": {
     "duration": 0.011118,
     "end_time": "2023-03-20T15:25:14.784936",
     "exception": false,
     "start_time": "2023-03-20T15:25:14.773818",
     "status": "completed"
    },
    "tags": []
   },
   "source": [
    "Split cabin column into three columns: deck/number/side"
   ]
  },
  {
   "cell_type": "code",
   "execution_count": 13,
   "id": "576ad1e6",
   "metadata": {
    "execution": {
     "iopub.execute_input": "2023-03-20T15:25:14.810173Z",
     "iopub.status.busy": "2023-03-20T15:25:14.809332Z",
     "iopub.status.idle": "2023-03-20T15:25:14.871114Z",
     "shell.execute_reply": "2023-03-20T15:25:14.869920Z"
    },
    "papermill": {
     "duration": 0.077897,
     "end_time": "2023-03-20T15:25:14.874156",
     "exception": false,
     "start_time": "2023-03-20T15:25:14.796259",
     "status": "completed"
    },
    "tags": []
   },
   "outputs": [],
   "source": [
    "# Split \"Cabin\" to three columns: Deck, Num, Size\n",
    "df['Deck'] = df['Cabin'].str.split('/',2).str[0]\n",
    "df['Num'] = df['Cabin'].str.split('/',2).str[1]\n",
    "df['Size'] = df['Cabin'].str.split('/',2).str[2]"
   ]
  },
  {
   "cell_type": "code",
   "execution_count": 14,
   "id": "330c0dbd",
   "metadata": {
    "execution": {
     "iopub.execute_input": "2023-03-20T15:25:14.899766Z",
     "iopub.status.busy": "2023-03-20T15:25:14.898739Z",
     "iopub.status.idle": "2023-03-20T15:25:14.924034Z",
     "shell.execute_reply": "2023-03-20T15:25:14.922523Z"
    },
    "papermill": {
     "duration": 0.041035,
     "end_time": "2023-03-20T15:25:14.926982",
     "exception": false,
     "start_time": "2023-03-20T15:25:14.885947",
     "status": "completed"
    },
    "tags": []
   },
   "outputs": [
    {
     "data": {
      "text/html": [
       "<div>\n",
       "<style scoped>\n",
       "    .dataframe tbody tr th:only-of-type {\n",
       "        vertical-align: middle;\n",
       "    }\n",
       "\n",
       "    .dataframe tbody tr th {\n",
       "        vertical-align: top;\n",
       "    }\n",
       "\n",
       "    .dataframe thead th {\n",
       "        text-align: right;\n",
       "    }\n",
       "</style>\n",
       "<table border=\"1\" class=\"dataframe\">\n",
       "  <thead>\n",
       "    <tr style=\"text-align: right;\">\n",
       "      <th></th>\n",
       "      <th>PassengerId</th>\n",
       "      <th>HomePlanet</th>\n",
       "      <th>CryoSleep</th>\n",
       "      <th>Cabin</th>\n",
       "      <th>Destination</th>\n",
       "      <th>Age</th>\n",
       "      <th>VIP</th>\n",
       "      <th>RoomService</th>\n",
       "      <th>FoodCourt</th>\n",
       "      <th>ShoppingMall</th>\n",
       "      <th>Spa</th>\n",
       "      <th>VRDeck</th>\n",
       "      <th>Name</th>\n",
       "      <th>output</th>\n",
       "      <th>set</th>\n",
       "      <th>Deck</th>\n",
       "      <th>Num</th>\n",
       "      <th>Size</th>\n",
       "    </tr>\n",
       "  </thead>\n",
       "  <tbody>\n",
       "    <tr>\n",
       "      <th>0</th>\n",
       "      <td>0001_01</td>\n",
       "      <td>Europa</td>\n",
       "      <td>False</td>\n",
       "      <td>B/0/P</td>\n",
       "      <td>TRAPPIST-1e</td>\n",
       "      <td>39.0</td>\n",
       "      <td>False</td>\n",
       "      <td>0.0</td>\n",
       "      <td>0.0</td>\n",
       "      <td>0.0</td>\n",
       "      <td>0.0</td>\n",
       "      <td>0.0</td>\n",
       "      <td>Maham Ofracculy</td>\n",
       "      <td>0.0</td>\n",
       "      <td>train</td>\n",
       "      <td>B</td>\n",
       "      <td>0</td>\n",
       "      <td>P</td>\n",
       "    </tr>\n",
       "    <tr>\n",
       "      <th>1</th>\n",
       "      <td>0002_01</td>\n",
       "      <td>Earth</td>\n",
       "      <td>False</td>\n",
       "      <td>F/0/S</td>\n",
       "      <td>TRAPPIST-1e</td>\n",
       "      <td>24.0</td>\n",
       "      <td>False</td>\n",
       "      <td>109.0</td>\n",
       "      <td>9.0</td>\n",
       "      <td>25.0</td>\n",
       "      <td>549.0</td>\n",
       "      <td>44.0</td>\n",
       "      <td>Juanna Vines</td>\n",
       "      <td>1.0</td>\n",
       "      <td>train</td>\n",
       "      <td>F</td>\n",
       "      <td>0</td>\n",
       "      <td>S</td>\n",
       "    </tr>\n",
       "    <tr>\n",
       "      <th>2</th>\n",
       "      <td>0003_01</td>\n",
       "      <td>Europa</td>\n",
       "      <td>False</td>\n",
       "      <td>A/0/S</td>\n",
       "      <td>TRAPPIST-1e</td>\n",
       "      <td>58.0</td>\n",
       "      <td>True</td>\n",
       "      <td>43.0</td>\n",
       "      <td>3576.0</td>\n",
       "      <td>0.0</td>\n",
       "      <td>6715.0</td>\n",
       "      <td>49.0</td>\n",
       "      <td>Altark Susent</td>\n",
       "      <td>0.0</td>\n",
       "      <td>train</td>\n",
       "      <td>A</td>\n",
       "      <td>0</td>\n",
       "      <td>S</td>\n",
       "    </tr>\n",
       "    <tr>\n",
       "      <th>3</th>\n",
       "      <td>0003_02</td>\n",
       "      <td>Europa</td>\n",
       "      <td>False</td>\n",
       "      <td>A/0/S</td>\n",
       "      <td>TRAPPIST-1e</td>\n",
       "      <td>33.0</td>\n",
       "      <td>False</td>\n",
       "      <td>0.0</td>\n",
       "      <td>1283.0</td>\n",
       "      <td>371.0</td>\n",
       "      <td>3329.0</td>\n",
       "      <td>193.0</td>\n",
       "      <td>Solam Susent</td>\n",
       "      <td>0.0</td>\n",
       "      <td>train</td>\n",
       "      <td>A</td>\n",
       "      <td>0</td>\n",
       "      <td>S</td>\n",
       "    </tr>\n",
       "    <tr>\n",
       "      <th>4</th>\n",
       "      <td>0004_01</td>\n",
       "      <td>Earth</td>\n",
       "      <td>False</td>\n",
       "      <td>F/1/S</td>\n",
       "      <td>TRAPPIST-1e</td>\n",
       "      <td>16.0</td>\n",
       "      <td>False</td>\n",
       "      <td>303.0</td>\n",
       "      <td>70.0</td>\n",
       "      <td>151.0</td>\n",
       "      <td>565.0</td>\n",
       "      <td>2.0</td>\n",
       "      <td>Willy Santantines</td>\n",
       "      <td>1.0</td>\n",
       "      <td>train</td>\n",
       "      <td>F</td>\n",
       "      <td>1</td>\n",
       "      <td>S</td>\n",
       "    </tr>\n",
       "  </tbody>\n",
       "</table>\n",
       "</div>"
      ],
      "text/plain": [
       "  PassengerId HomePlanet  CryoSleep  Cabin  Destination   Age    VIP  \\\n",
       "0     0001_01     Europa      False  B/0/P  TRAPPIST-1e  39.0  False   \n",
       "1     0002_01      Earth      False  F/0/S  TRAPPIST-1e  24.0  False   \n",
       "2     0003_01     Europa      False  A/0/S  TRAPPIST-1e  58.0   True   \n",
       "3     0003_02     Europa      False  A/0/S  TRAPPIST-1e  33.0  False   \n",
       "4     0004_01      Earth      False  F/1/S  TRAPPIST-1e  16.0  False   \n",
       "\n",
       "   RoomService  FoodCourt  ShoppingMall     Spa  VRDeck               Name  \\\n",
       "0          0.0        0.0           0.0     0.0     0.0    Maham Ofracculy   \n",
       "1        109.0        9.0          25.0   549.0    44.0       Juanna Vines   \n",
       "2         43.0     3576.0           0.0  6715.0    49.0      Altark Susent   \n",
       "3          0.0     1283.0         371.0  3329.0   193.0       Solam Susent   \n",
       "4        303.0       70.0         151.0   565.0     2.0  Willy Santantines   \n",
       "\n",
       "   output    set Deck Num Size  \n",
       "0     0.0  train    B   0    P  \n",
       "1     1.0  train    F   0    S  \n",
       "2     0.0  train    A   0    S  \n",
       "3     0.0  train    A   0    S  \n",
       "4     1.0  train    F   1    S  "
      ]
     },
     "execution_count": 14,
     "metadata": {},
     "output_type": "execute_result"
    }
   ],
   "source": [
    "df.head()"
   ]
  },
  {
   "cell_type": "code",
   "execution_count": 15,
   "id": "4f60fe80",
   "metadata": {
    "execution": {
     "iopub.execute_input": "2023-03-20T15:25:14.952935Z",
     "iopub.status.busy": "2023-03-20T15:25:14.952308Z",
     "iopub.status.idle": "2023-03-20T15:25:14.985140Z",
     "shell.execute_reply": "2023-03-20T15:25:14.983821Z"
    },
    "papermill": {
     "duration": 0.048692,
     "end_time": "2023-03-20T15:25:14.987546",
     "exception": false,
     "start_time": "2023-03-20T15:25:14.938854",
     "status": "completed"
    },
    "tags": []
   },
   "outputs": [
    {
     "data": {
      "text/html": [
       "<div>\n",
       "<style scoped>\n",
       "    .dataframe tbody tr th:only-of-type {\n",
       "        vertical-align: middle;\n",
       "    }\n",
       "\n",
       "    .dataframe tbody tr th {\n",
       "        vertical-align: top;\n",
       "    }\n",
       "\n",
       "    .dataframe thead th {\n",
       "        text-align: right;\n",
       "    }\n",
       "</style>\n",
       "<table border=\"1\" class=\"dataframe\">\n",
       "  <thead>\n",
       "    <tr style=\"text-align: right;\">\n",
       "      <th></th>\n",
       "      <th>PassengerId</th>\n",
       "      <th>HomePlanet</th>\n",
       "      <th>CryoSleep</th>\n",
       "      <th>Destination</th>\n",
       "      <th>Age</th>\n",
       "      <th>VIP</th>\n",
       "      <th>RoomService</th>\n",
       "      <th>FoodCourt</th>\n",
       "      <th>ShoppingMall</th>\n",
       "      <th>Spa</th>\n",
       "      <th>VRDeck</th>\n",
       "      <th>Name</th>\n",
       "      <th>output</th>\n",
       "      <th>set</th>\n",
       "      <th>Deck</th>\n",
       "      <th>Num</th>\n",
       "      <th>Size</th>\n",
       "    </tr>\n",
       "  </thead>\n",
       "  <tbody>\n",
       "    <tr>\n",
       "      <th>0</th>\n",
       "      <td>0001_01</td>\n",
       "      <td>Europa</td>\n",
       "      <td>False</td>\n",
       "      <td>TRAPPIST-1e</td>\n",
       "      <td>39.0</td>\n",
       "      <td>False</td>\n",
       "      <td>0.0</td>\n",
       "      <td>0.0</td>\n",
       "      <td>0.0</td>\n",
       "      <td>0.0</td>\n",
       "      <td>0.0</td>\n",
       "      <td>Maham Ofracculy</td>\n",
       "      <td>0.0</td>\n",
       "      <td>train</td>\n",
       "      <td>B</td>\n",
       "      <td>0</td>\n",
       "      <td>P</td>\n",
       "    </tr>\n",
       "    <tr>\n",
       "      <th>1</th>\n",
       "      <td>0002_01</td>\n",
       "      <td>Earth</td>\n",
       "      <td>False</td>\n",
       "      <td>TRAPPIST-1e</td>\n",
       "      <td>24.0</td>\n",
       "      <td>False</td>\n",
       "      <td>109.0</td>\n",
       "      <td>9.0</td>\n",
       "      <td>25.0</td>\n",
       "      <td>549.0</td>\n",
       "      <td>44.0</td>\n",
       "      <td>Juanna Vines</td>\n",
       "      <td>1.0</td>\n",
       "      <td>train</td>\n",
       "      <td>F</td>\n",
       "      <td>0</td>\n",
       "      <td>S</td>\n",
       "    </tr>\n",
       "    <tr>\n",
       "      <th>2</th>\n",
       "      <td>0003_01</td>\n",
       "      <td>Europa</td>\n",
       "      <td>False</td>\n",
       "      <td>TRAPPIST-1e</td>\n",
       "      <td>58.0</td>\n",
       "      <td>True</td>\n",
       "      <td>43.0</td>\n",
       "      <td>3576.0</td>\n",
       "      <td>0.0</td>\n",
       "      <td>6715.0</td>\n",
       "      <td>49.0</td>\n",
       "      <td>Altark Susent</td>\n",
       "      <td>0.0</td>\n",
       "      <td>train</td>\n",
       "      <td>A</td>\n",
       "      <td>0</td>\n",
       "      <td>S</td>\n",
       "    </tr>\n",
       "    <tr>\n",
       "      <th>3</th>\n",
       "      <td>0003_02</td>\n",
       "      <td>Europa</td>\n",
       "      <td>False</td>\n",
       "      <td>TRAPPIST-1e</td>\n",
       "      <td>33.0</td>\n",
       "      <td>False</td>\n",
       "      <td>0.0</td>\n",
       "      <td>1283.0</td>\n",
       "      <td>371.0</td>\n",
       "      <td>3329.0</td>\n",
       "      <td>193.0</td>\n",
       "      <td>Solam Susent</td>\n",
       "      <td>0.0</td>\n",
       "      <td>train</td>\n",
       "      <td>A</td>\n",
       "      <td>0</td>\n",
       "      <td>S</td>\n",
       "    </tr>\n",
       "    <tr>\n",
       "      <th>4</th>\n",
       "      <td>0004_01</td>\n",
       "      <td>Earth</td>\n",
       "      <td>False</td>\n",
       "      <td>TRAPPIST-1e</td>\n",
       "      <td>16.0</td>\n",
       "      <td>False</td>\n",
       "      <td>303.0</td>\n",
       "      <td>70.0</td>\n",
       "      <td>151.0</td>\n",
       "      <td>565.0</td>\n",
       "      <td>2.0</td>\n",
       "      <td>Willy Santantines</td>\n",
       "      <td>1.0</td>\n",
       "      <td>train</td>\n",
       "      <td>F</td>\n",
       "      <td>1</td>\n",
       "      <td>S</td>\n",
       "    </tr>\n",
       "  </tbody>\n",
       "</table>\n",
       "</div>"
      ],
      "text/plain": [
       "  PassengerId HomePlanet  CryoSleep  Destination   Age    VIP  RoomService  \\\n",
       "0     0001_01     Europa      False  TRAPPIST-1e  39.0  False          0.0   \n",
       "1     0002_01      Earth      False  TRAPPIST-1e  24.0  False        109.0   \n",
       "2     0003_01     Europa      False  TRAPPIST-1e  58.0   True         43.0   \n",
       "3     0003_02     Europa      False  TRAPPIST-1e  33.0  False          0.0   \n",
       "4     0004_01      Earth      False  TRAPPIST-1e  16.0  False        303.0   \n",
       "\n",
       "   FoodCourt  ShoppingMall     Spa  VRDeck               Name  output    set  \\\n",
       "0        0.0           0.0     0.0     0.0    Maham Ofracculy     0.0  train   \n",
       "1        9.0          25.0   549.0    44.0       Juanna Vines     1.0  train   \n",
       "2     3576.0           0.0  6715.0    49.0      Altark Susent     0.0  train   \n",
       "3     1283.0         371.0  3329.0   193.0       Solam Susent     0.0  train   \n",
       "4       70.0         151.0   565.0     2.0  Willy Santantines     1.0  train   \n",
       "\n",
       "  Deck Num Size  \n",
       "0    B   0    P  \n",
       "1    F   0    S  \n",
       "2    A   0    S  \n",
       "3    A   0    S  \n",
       "4    F   1    S  "
      ]
     },
     "execution_count": 15,
     "metadata": {},
     "output_type": "execute_result"
    }
   ],
   "source": [
    "df = df.drop('Cabin', axis = 1)\n",
    "df.head()"
   ]
  },
  {
   "cell_type": "code",
   "execution_count": 16,
   "id": "ea1e90e8",
   "metadata": {
    "execution": {
     "iopub.execute_input": "2023-03-20T15:25:15.014037Z",
     "iopub.status.busy": "2023-03-20T15:25:15.012843Z",
     "iopub.status.idle": "2023-03-20T15:25:15.022431Z",
     "shell.execute_reply": "2023-03-20T15:25:15.021281Z"
    },
    "papermill": {
     "duration": 0.025677,
     "end_time": "2023-03-20T15:25:15.025178",
     "exception": false,
     "start_time": "2023-03-20T15:25:14.999501",
     "status": "completed"
    },
    "tags": []
   },
   "outputs": [
    {
     "data": {
      "text/plain": [
       "array(['TRAPPIST-1e', 'PSO J318.5-22', '55 Cancri e'], dtype=object)"
      ]
     },
     "execution_count": 16,
     "metadata": {},
     "output_type": "execute_result"
    }
   ],
   "source": [
    "df['Destination'].unique()"
   ]
  },
  {
   "cell_type": "code",
   "execution_count": 17,
   "id": "76f19318",
   "metadata": {
    "execution": {
     "iopub.execute_input": "2023-03-20T15:25:15.051980Z",
     "iopub.status.busy": "2023-03-20T15:25:15.050757Z",
     "iopub.status.idle": "2023-03-20T15:25:15.071237Z",
     "shell.execute_reply": "2023-03-20T15:25:15.069782Z"
    },
    "papermill": {
     "duration": 0.036851,
     "end_time": "2023-03-20T15:25:15.074152",
     "exception": false,
     "start_time": "2023-03-20T15:25:15.037301",
     "status": "completed"
    },
    "tags": []
   },
   "outputs": [],
   "source": [
    "# label for other categorical columns\n",
    "cat_col = ['CryoSleep', 'VIP', 'HomePlanet', 'Destination', 'Deck', 'Num', 'Size']\n",
    "new_col = ['Cryo_Sleep','vip','Home_planet', 'destination','deck','num','size']\n",
    "\n",
    "for col in df:\n",
    "    if col in cat_col:\n",
    "        ind = cat_col.index(col)\n",
    "        df[new_col[ind]] = pd.Categorical(df[col]).codes\n"
   ]
  },
  {
   "cell_type": "code",
   "execution_count": 18,
   "id": "95cb1686",
   "metadata": {
    "execution": {
     "iopub.execute_input": "2023-03-20T15:25:15.100348Z",
     "iopub.status.busy": "2023-03-20T15:25:15.099889Z",
     "iopub.status.idle": "2023-03-20T15:25:15.111279Z",
     "shell.execute_reply": "2023-03-20T15:25:15.109904Z"
    },
    "papermill": {
     "duration": 0.027663,
     "end_time": "2023-03-20T15:25:15.114067",
     "exception": false,
     "start_time": "2023-03-20T15:25:15.086404",
     "status": "completed"
    },
    "tags": []
   },
   "outputs": [],
   "source": [
    "#df = df.drop('PassengerId', axis = 1)\n",
    "df = df.drop('Name', axis = 1)"
   ]
  },
  {
   "cell_type": "code",
   "execution_count": 19,
   "id": "4870bc45",
   "metadata": {
    "execution": {
     "iopub.execute_input": "2023-03-20T15:25:15.140185Z",
     "iopub.status.busy": "2023-03-20T15:25:15.139776Z",
     "iopub.status.idle": "2023-03-20T15:25:15.159116Z",
     "shell.execute_reply": "2023-03-20T15:25:15.157987Z"
    },
    "papermill": {
     "duration": 0.035684,
     "end_time": "2023-03-20T15:25:15.161978",
     "exception": false,
     "start_time": "2023-03-20T15:25:15.126294",
     "status": "completed"
    },
    "tags": []
   },
   "outputs": [],
   "source": [
    "for col in cat_col:\n",
    "    df = df.drop(col,axis = 1)"
   ]
  },
  {
   "cell_type": "code",
   "execution_count": 20,
   "id": "6b491974",
   "metadata": {
    "execution": {
     "iopub.execute_input": "2023-03-20T15:25:15.188688Z",
     "iopub.status.busy": "2023-03-20T15:25:15.187872Z",
     "iopub.status.idle": "2023-03-20T15:25:15.208982Z",
     "shell.execute_reply": "2023-03-20T15:25:15.207970Z"
    },
    "papermill": {
     "duration": 0.037154,
     "end_time": "2023-03-20T15:25:15.211500",
     "exception": false,
     "start_time": "2023-03-20T15:25:15.174346",
     "status": "completed"
    },
    "tags": []
   },
   "outputs": [
    {
     "data": {
      "text/html": [
       "<div>\n",
       "<style scoped>\n",
       "    .dataframe tbody tr th:only-of-type {\n",
       "        vertical-align: middle;\n",
       "    }\n",
       "\n",
       "    .dataframe tbody tr th {\n",
       "        vertical-align: top;\n",
       "    }\n",
       "\n",
       "    .dataframe thead th {\n",
       "        text-align: right;\n",
       "    }\n",
       "</style>\n",
       "<table border=\"1\" class=\"dataframe\">\n",
       "  <thead>\n",
       "    <tr style=\"text-align: right;\">\n",
       "      <th></th>\n",
       "      <th>PassengerId</th>\n",
       "      <th>Age</th>\n",
       "      <th>RoomService</th>\n",
       "      <th>FoodCourt</th>\n",
       "      <th>ShoppingMall</th>\n",
       "      <th>Spa</th>\n",
       "      <th>VRDeck</th>\n",
       "      <th>output</th>\n",
       "      <th>set</th>\n",
       "      <th>Home_planet</th>\n",
       "      <th>Cryo_Sleep</th>\n",
       "      <th>destination</th>\n",
       "      <th>vip</th>\n",
       "      <th>deck</th>\n",
       "      <th>num</th>\n",
       "      <th>size</th>\n",
       "    </tr>\n",
       "  </thead>\n",
       "  <tbody>\n",
       "    <tr>\n",
       "      <th>0</th>\n",
       "      <td>0001_01</td>\n",
       "      <td>39.0</td>\n",
       "      <td>0.0</td>\n",
       "      <td>0.0</td>\n",
       "      <td>0.0</td>\n",
       "      <td>0.0</td>\n",
       "      <td>0.0</td>\n",
       "      <td>0.0</td>\n",
       "      <td>train</td>\n",
       "      <td>1</td>\n",
       "      <td>0</td>\n",
       "      <td>2</td>\n",
       "      <td>0</td>\n",
       "      <td>1</td>\n",
       "      <td>0</td>\n",
       "      <td>0</td>\n",
       "    </tr>\n",
       "    <tr>\n",
       "      <th>1</th>\n",
       "      <td>0002_01</td>\n",
       "      <td>24.0</td>\n",
       "      <td>109.0</td>\n",
       "      <td>9.0</td>\n",
       "      <td>25.0</td>\n",
       "      <td>549.0</td>\n",
       "      <td>44.0</td>\n",
       "      <td>1.0</td>\n",
       "      <td>train</td>\n",
       "      <td>0</td>\n",
       "      <td>0</td>\n",
       "      <td>2</td>\n",
       "      <td>0</td>\n",
       "      <td>5</td>\n",
       "      <td>0</td>\n",
       "      <td>1</td>\n",
       "    </tr>\n",
       "    <tr>\n",
       "      <th>2</th>\n",
       "      <td>0003_01</td>\n",
       "      <td>58.0</td>\n",
       "      <td>43.0</td>\n",
       "      <td>3576.0</td>\n",
       "      <td>0.0</td>\n",
       "      <td>6715.0</td>\n",
       "      <td>49.0</td>\n",
       "      <td>0.0</td>\n",
       "      <td>train</td>\n",
       "      <td>1</td>\n",
       "      <td>0</td>\n",
       "      <td>2</td>\n",
       "      <td>1</td>\n",
       "      <td>0</td>\n",
       "      <td>0</td>\n",
       "      <td>1</td>\n",
       "    </tr>\n",
       "    <tr>\n",
       "      <th>3</th>\n",
       "      <td>0003_02</td>\n",
       "      <td>33.0</td>\n",
       "      <td>0.0</td>\n",
       "      <td>1283.0</td>\n",
       "      <td>371.0</td>\n",
       "      <td>3329.0</td>\n",
       "      <td>193.0</td>\n",
       "      <td>0.0</td>\n",
       "      <td>train</td>\n",
       "      <td>1</td>\n",
       "      <td>0</td>\n",
       "      <td>2</td>\n",
       "      <td>0</td>\n",
       "      <td>0</td>\n",
       "      <td>0</td>\n",
       "      <td>1</td>\n",
       "    </tr>\n",
       "    <tr>\n",
       "      <th>4</th>\n",
       "      <td>0004_01</td>\n",
       "      <td>16.0</td>\n",
       "      <td>303.0</td>\n",
       "      <td>70.0</td>\n",
       "      <td>151.0</td>\n",
       "      <td>565.0</td>\n",
       "      <td>2.0</td>\n",
       "      <td>1.0</td>\n",
       "      <td>train</td>\n",
       "      <td>0</td>\n",
       "      <td>0</td>\n",
       "      <td>2</td>\n",
       "      <td>0</td>\n",
       "      <td>5</td>\n",
       "      <td>1</td>\n",
       "      <td>1</td>\n",
       "    </tr>\n",
       "  </tbody>\n",
       "</table>\n",
       "</div>"
      ],
      "text/plain": [
       "  PassengerId   Age  RoomService  FoodCourt  ShoppingMall     Spa  VRDeck  \\\n",
       "0     0001_01  39.0          0.0        0.0           0.0     0.0     0.0   \n",
       "1     0002_01  24.0        109.0        9.0          25.0   549.0    44.0   \n",
       "2     0003_01  58.0         43.0     3576.0           0.0  6715.0    49.0   \n",
       "3     0003_02  33.0          0.0     1283.0         371.0  3329.0   193.0   \n",
       "4     0004_01  16.0        303.0       70.0         151.0   565.0     2.0   \n",
       "\n",
       "   output    set  Home_planet  Cryo_Sleep  destination  vip  deck  num  size  \n",
       "0     0.0  train            1           0            2    0     1    0     0  \n",
       "1     1.0  train            0           0            2    0     5    0     1  \n",
       "2     0.0  train            1           0            2    1     0    0     1  \n",
       "3     0.0  train            1           0            2    0     0    0     1  \n",
       "4     1.0  train            0           0            2    0     5    1     1  "
      ]
     },
     "execution_count": 20,
     "metadata": {},
     "output_type": "execute_result"
    }
   ],
   "source": [
    "df.head()"
   ]
  },
  {
   "cell_type": "code",
   "execution_count": 21,
   "id": "8b7bee95",
   "metadata": {
    "execution": {
     "iopub.execute_input": "2023-03-20T15:25:15.239778Z",
     "iopub.status.busy": "2023-03-20T15:25:15.238215Z",
     "iopub.status.idle": "2023-03-20T15:25:15.248807Z",
     "shell.execute_reply": "2023-03-20T15:25:15.247890Z"
    },
    "papermill": {
     "duration": 0.027517,
     "end_time": "2023-03-20T15:25:15.251527",
     "exception": false,
     "start_time": "2023-03-20T15:25:15.224010",
     "status": "completed"
    },
    "tags": []
   },
   "outputs": [],
   "source": [
    "traindf = df[df['set']=='train']\n",
    "testdf = df[df['set']=='test']"
   ]
  },
  {
   "cell_type": "code",
   "execution_count": 22,
   "id": "3e2e1a3a",
   "metadata": {
    "execution": {
     "iopub.execute_input": "2023-03-20T15:25:15.278878Z",
     "iopub.status.busy": "2023-03-20T15:25:15.277715Z",
     "iopub.status.idle": "2023-03-20T15:25:15.289067Z",
     "shell.execute_reply": "2023-03-20T15:25:15.287946Z"
    },
    "papermill": {
     "duration": 0.027672,
     "end_time": "2023-03-20T15:25:15.291586",
     "exception": false,
     "start_time": "2023-03-20T15:25:15.263914",
     "status": "completed"
    },
    "tags": []
   },
   "outputs": [],
   "source": [
    "traindf = traindf.drop('set',axis = 1)\n",
    "testdf = testdf.drop('set',axis = 1)\n",
    "testdf = testdf.drop('output',axis = 1)"
   ]
  },
  {
   "cell_type": "code",
   "execution_count": 23,
   "id": "ce4e67c7",
   "metadata": {
    "execution": {
     "iopub.execute_input": "2023-03-20T15:25:15.318572Z",
     "iopub.status.busy": "2023-03-20T15:25:15.318162Z",
     "iopub.status.idle": "2023-03-20T15:25:15.339430Z",
     "shell.execute_reply": "2023-03-20T15:25:15.338071Z"
    },
    "papermill": {
     "duration": 0.037938,
     "end_time": "2023-03-20T15:25:15.341906",
     "exception": false,
     "start_time": "2023-03-20T15:25:15.303968",
     "status": "completed"
    },
    "tags": []
   },
   "outputs": [
    {
     "data": {
      "text/html": [
       "<div>\n",
       "<style scoped>\n",
       "    .dataframe tbody tr th:only-of-type {\n",
       "        vertical-align: middle;\n",
       "    }\n",
       "\n",
       "    .dataframe tbody tr th {\n",
       "        vertical-align: top;\n",
       "    }\n",
       "\n",
       "    .dataframe thead th {\n",
       "        text-align: right;\n",
       "    }\n",
       "</style>\n",
       "<table border=\"1\" class=\"dataframe\">\n",
       "  <thead>\n",
       "    <tr style=\"text-align: right;\">\n",
       "      <th></th>\n",
       "      <th>PassengerId</th>\n",
       "      <th>Age</th>\n",
       "      <th>RoomService</th>\n",
       "      <th>FoodCourt</th>\n",
       "      <th>ShoppingMall</th>\n",
       "      <th>Spa</th>\n",
       "      <th>VRDeck</th>\n",
       "      <th>output</th>\n",
       "      <th>Home_planet</th>\n",
       "      <th>Cryo_Sleep</th>\n",
       "      <th>destination</th>\n",
       "      <th>vip</th>\n",
       "      <th>deck</th>\n",
       "      <th>num</th>\n",
       "      <th>size</th>\n",
       "    </tr>\n",
       "  </thead>\n",
       "  <tbody>\n",
       "    <tr>\n",
       "      <th>0</th>\n",
       "      <td>0001_01</td>\n",
       "      <td>39.0</td>\n",
       "      <td>0.0</td>\n",
       "      <td>0.0</td>\n",
       "      <td>0.0</td>\n",
       "      <td>0.0</td>\n",
       "      <td>0.0</td>\n",
       "      <td>0.0</td>\n",
       "      <td>1</td>\n",
       "      <td>0</td>\n",
       "      <td>2</td>\n",
       "      <td>0</td>\n",
       "      <td>1</td>\n",
       "      <td>0</td>\n",
       "      <td>0</td>\n",
       "    </tr>\n",
       "    <tr>\n",
       "      <th>1</th>\n",
       "      <td>0002_01</td>\n",
       "      <td>24.0</td>\n",
       "      <td>109.0</td>\n",
       "      <td>9.0</td>\n",
       "      <td>25.0</td>\n",
       "      <td>549.0</td>\n",
       "      <td>44.0</td>\n",
       "      <td>1.0</td>\n",
       "      <td>0</td>\n",
       "      <td>0</td>\n",
       "      <td>2</td>\n",
       "      <td>0</td>\n",
       "      <td>5</td>\n",
       "      <td>0</td>\n",
       "      <td>1</td>\n",
       "    </tr>\n",
       "    <tr>\n",
       "      <th>2</th>\n",
       "      <td>0003_01</td>\n",
       "      <td>58.0</td>\n",
       "      <td>43.0</td>\n",
       "      <td>3576.0</td>\n",
       "      <td>0.0</td>\n",
       "      <td>6715.0</td>\n",
       "      <td>49.0</td>\n",
       "      <td>0.0</td>\n",
       "      <td>1</td>\n",
       "      <td>0</td>\n",
       "      <td>2</td>\n",
       "      <td>1</td>\n",
       "      <td>0</td>\n",
       "      <td>0</td>\n",
       "      <td>1</td>\n",
       "    </tr>\n",
       "    <tr>\n",
       "      <th>3</th>\n",
       "      <td>0003_02</td>\n",
       "      <td>33.0</td>\n",
       "      <td>0.0</td>\n",
       "      <td>1283.0</td>\n",
       "      <td>371.0</td>\n",
       "      <td>3329.0</td>\n",
       "      <td>193.0</td>\n",
       "      <td>0.0</td>\n",
       "      <td>1</td>\n",
       "      <td>0</td>\n",
       "      <td>2</td>\n",
       "      <td>0</td>\n",
       "      <td>0</td>\n",
       "      <td>0</td>\n",
       "      <td>1</td>\n",
       "    </tr>\n",
       "    <tr>\n",
       "      <th>4</th>\n",
       "      <td>0004_01</td>\n",
       "      <td>16.0</td>\n",
       "      <td>303.0</td>\n",
       "      <td>70.0</td>\n",
       "      <td>151.0</td>\n",
       "      <td>565.0</td>\n",
       "      <td>2.0</td>\n",
       "      <td>1.0</td>\n",
       "      <td>0</td>\n",
       "      <td>0</td>\n",
       "      <td>2</td>\n",
       "      <td>0</td>\n",
       "      <td>5</td>\n",
       "      <td>1</td>\n",
       "      <td>1</td>\n",
       "    </tr>\n",
       "  </tbody>\n",
       "</table>\n",
       "</div>"
      ],
      "text/plain": [
       "  PassengerId   Age  RoomService  FoodCourt  ShoppingMall     Spa  VRDeck  \\\n",
       "0     0001_01  39.0          0.0        0.0           0.0     0.0     0.0   \n",
       "1     0002_01  24.0        109.0        9.0          25.0   549.0    44.0   \n",
       "2     0003_01  58.0         43.0     3576.0           0.0  6715.0    49.0   \n",
       "3     0003_02  33.0          0.0     1283.0         371.0  3329.0   193.0   \n",
       "4     0004_01  16.0        303.0       70.0         151.0   565.0     2.0   \n",
       "\n",
       "   output  Home_planet  Cryo_Sleep  destination  vip  deck  num  size  \n",
       "0     0.0            1           0            2    0     1    0     0  \n",
       "1     1.0            0           0            2    0     5    0     1  \n",
       "2     0.0            1           0            2    1     0    0     1  \n",
       "3     0.0            1           0            2    0     0    0     1  \n",
       "4     1.0            0           0            2    0     5    1     1  "
      ]
     },
     "execution_count": 23,
     "metadata": {},
     "output_type": "execute_result"
    }
   ],
   "source": [
    "traindf.head()"
   ]
  },
  {
   "cell_type": "code",
   "execution_count": 24,
   "id": "cd45ad69",
   "metadata": {
    "execution": {
     "iopub.execute_input": "2023-03-20T15:25:15.370719Z",
     "iopub.status.busy": "2023-03-20T15:25:15.369437Z",
     "iopub.status.idle": "2023-03-20T15:25:15.390359Z",
     "shell.execute_reply": "2023-03-20T15:25:15.389034Z"
    },
    "papermill": {
     "duration": 0.037967,
     "end_time": "2023-03-20T15:25:15.392975",
     "exception": false,
     "start_time": "2023-03-20T15:25:15.355008",
     "status": "completed"
    },
    "tags": []
   },
   "outputs": [
    {
     "data": {
      "text/html": [
       "<div>\n",
       "<style scoped>\n",
       "    .dataframe tbody tr th:only-of-type {\n",
       "        vertical-align: middle;\n",
       "    }\n",
       "\n",
       "    .dataframe tbody tr th {\n",
       "        vertical-align: top;\n",
       "    }\n",
       "\n",
       "    .dataframe thead th {\n",
       "        text-align: right;\n",
       "    }\n",
       "</style>\n",
       "<table border=\"1\" class=\"dataframe\">\n",
       "  <thead>\n",
       "    <tr style=\"text-align: right;\">\n",
       "      <th></th>\n",
       "      <th>PassengerId</th>\n",
       "      <th>Age</th>\n",
       "      <th>RoomService</th>\n",
       "      <th>FoodCourt</th>\n",
       "      <th>ShoppingMall</th>\n",
       "      <th>Spa</th>\n",
       "      <th>VRDeck</th>\n",
       "      <th>Home_planet</th>\n",
       "      <th>Cryo_Sleep</th>\n",
       "      <th>destination</th>\n",
       "      <th>vip</th>\n",
       "      <th>deck</th>\n",
       "      <th>num</th>\n",
       "      <th>size</th>\n",
       "    </tr>\n",
       "  </thead>\n",
       "  <tbody>\n",
       "    <tr>\n",
       "      <th>0</th>\n",
       "      <td>0013_01</td>\n",
       "      <td>27.0</td>\n",
       "      <td>0.0</td>\n",
       "      <td>0.0</td>\n",
       "      <td>0.0</td>\n",
       "      <td>0.0</td>\n",
       "      <td>0.0</td>\n",
       "      <td>0</td>\n",
       "      <td>1</td>\n",
       "      <td>2</td>\n",
       "      <td>0</td>\n",
       "      <td>6</td>\n",
       "      <td>1117</td>\n",
       "      <td>1</td>\n",
       "    </tr>\n",
       "    <tr>\n",
       "      <th>1</th>\n",
       "      <td>0018_01</td>\n",
       "      <td>19.0</td>\n",
       "      <td>0.0</td>\n",
       "      <td>9.0</td>\n",
       "      <td>0.0</td>\n",
       "      <td>2823.0</td>\n",
       "      <td>0.0</td>\n",
       "      <td>0</td>\n",
       "      <td>0</td>\n",
       "      <td>2</td>\n",
       "      <td>0</td>\n",
       "      <td>5</td>\n",
       "      <td>1228</td>\n",
       "      <td>1</td>\n",
       "    </tr>\n",
       "    <tr>\n",
       "      <th>2</th>\n",
       "      <td>0019_01</td>\n",
       "      <td>31.0</td>\n",
       "      <td>0.0</td>\n",
       "      <td>0.0</td>\n",
       "      <td>0.0</td>\n",
       "      <td>0.0</td>\n",
       "      <td>0.0</td>\n",
       "      <td>1</td>\n",
       "      <td>1</td>\n",
       "      <td>0</td>\n",
       "      <td>0</td>\n",
       "      <td>2</td>\n",
       "      <td>0</td>\n",
       "      <td>1</td>\n",
       "    </tr>\n",
       "    <tr>\n",
       "      <th>3</th>\n",
       "      <td>0021_01</td>\n",
       "      <td>38.0</td>\n",
       "      <td>0.0</td>\n",
       "      <td>6652.0</td>\n",
       "      <td>0.0</td>\n",
       "      <td>181.0</td>\n",
       "      <td>585.0</td>\n",
       "      <td>1</td>\n",
       "      <td>0</td>\n",
       "      <td>2</td>\n",
       "      <td>0</td>\n",
       "      <td>2</td>\n",
       "      <td>1</td>\n",
       "      <td>1</td>\n",
       "    </tr>\n",
       "    <tr>\n",
       "      <th>4</th>\n",
       "      <td>0023_01</td>\n",
       "      <td>20.0</td>\n",
       "      <td>10.0</td>\n",
       "      <td>0.0</td>\n",
       "      <td>635.0</td>\n",
       "      <td>0.0</td>\n",
       "      <td>0.0</td>\n",
       "      <td>0</td>\n",
       "      <td>0</td>\n",
       "      <td>2</td>\n",
       "      <td>0</td>\n",
       "      <td>5</td>\n",
       "      <td>1339</td>\n",
       "      <td>1</td>\n",
       "    </tr>\n",
       "  </tbody>\n",
       "</table>\n",
       "</div>"
      ],
      "text/plain": [
       "  PassengerId   Age  RoomService  FoodCourt  ShoppingMall     Spa  VRDeck  \\\n",
       "0     0013_01  27.0          0.0        0.0           0.0     0.0     0.0   \n",
       "1     0018_01  19.0          0.0        9.0           0.0  2823.0     0.0   \n",
       "2     0019_01  31.0          0.0        0.0           0.0     0.0     0.0   \n",
       "3     0021_01  38.0          0.0     6652.0           0.0   181.0   585.0   \n",
       "4     0023_01  20.0         10.0        0.0         635.0     0.0     0.0   \n",
       "\n",
       "   Home_planet  Cryo_Sleep  destination  vip  deck   num  size  \n",
       "0            0           1            2    0     6  1117     1  \n",
       "1            0           0            2    0     5  1228     1  \n",
       "2            1           1            0    0     2     0     1  \n",
       "3            1           0            2    0     2     1     1  \n",
       "4            0           0            2    0     5  1339     1  "
      ]
     },
     "execution_count": 24,
     "metadata": {},
     "output_type": "execute_result"
    }
   ],
   "source": [
    "#testdf = df.drop('set',axis = 1)\n",
    "testdf.head()"
   ]
  },
  {
   "cell_type": "markdown",
   "id": "eef3de98",
   "metadata": {
    "papermill": {
     "duration": 0.012631,
     "end_time": "2023-03-20T15:25:15.418600",
     "exception": false,
     "start_time": "2023-03-20T15:25:15.405969",
     "status": "completed"
    },
    "tags": []
   },
   "source": [
    "# Data Modelling\n",
    "I) Set Training and Testing Data\n",
    "\n",
    "II) Models used:\n",
    "1. Decision Tree\n",
    "2. Random Forest Tree\n",
    "3. Naive Bayes\n",
    "4. K-Means"
   ]
  },
  {
   "cell_type": "code",
   "execution_count": 25,
   "id": "a568dc1f",
   "metadata": {
    "execution": {
     "iopub.execute_input": "2023-03-20T15:25:15.446295Z",
     "iopub.status.busy": "2023-03-20T15:25:15.445851Z",
     "iopub.status.idle": "2023-03-20T15:25:15.453616Z",
     "shell.execute_reply": "2023-03-20T15:25:15.452739Z"
    },
    "papermill": {
     "duration": 0.024369,
     "end_time": "2023-03-20T15:25:15.455980",
     "exception": false,
     "start_time": "2023-03-20T15:25:15.431611",
     "status": "completed"
    },
    "tags": []
   },
   "outputs": [],
   "source": [
    "target = traindf['output']\n",
    "feature = traindf.drop('output', axis = 1)"
   ]
  },
  {
   "cell_type": "code",
   "execution_count": 26,
   "id": "4313741a",
   "metadata": {
    "execution": {
     "iopub.execute_input": "2023-03-20T15:25:15.484766Z",
     "iopub.status.busy": "2023-03-20T15:25:15.483438Z",
     "iopub.status.idle": "2023-03-20T15:25:15.709156Z",
     "shell.execute_reply": "2023-03-20T15:25:15.707970Z"
    },
    "papermill": {
     "duration": 0.242773,
     "end_time": "2023-03-20T15:25:15.711749",
     "exception": false,
     "start_time": "2023-03-20T15:25:15.468976",
     "status": "completed"
    },
    "tags": []
   },
   "outputs": [
    {
     "name": "stdout",
     "output_type": "stream",
     "text": [
      "Shape of training feature: (6954, 14)\n",
      "Shape of testing feature: (1739, 14)\n",
      "Shape of training label: (6954,)\n",
      "Shape of training label: (1739,)\n"
     ]
    }
   ],
   "source": [
    "# Set Training and Testing Data\n",
    "\n",
    "from sklearn.model_selection import train_test_split\n",
    "X_train, X_test, y_train, y_test = train_test_split(feature , target, \n",
    "                                                    shuffle = True, \n",
    "                                                    test_size=0.2, \n",
    "                                                    random_state=1)\n",
    "\n",
    "# Show the Training and Testing Data\n",
    "print('Shape of training feature:', X_train.shape)\n",
    "print('Shape of testing feature:', X_test.shape)\n",
    "print('Shape of training label:', y_train.shape)\n",
    "print('Shape of training label:', y_test.shape)"
   ]
  },
  {
   "cell_type": "markdown",
   "id": "e9e8f307",
   "metadata": {
    "papermill": {
     "duration": 0.0134,
     "end_time": "2023-03-20T15:25:15.738201",
     "exception": false,
     "start_time": "2023-03-20T15:25:15.724801",
     "status": "completed"
    },
    "tags": []
   },
   "source": [
    "We will define a function called: evaluate_model, to evaluate the performance of our models."
   ]
  },
  {
   "cell_type": "code",
   "execution_count": 27,
   "id": "066efea2",
   "metadata": {
    "execution": {
     "iopub.execute_input": "2023-03-20T15:25:15.766925Z",
     "iopub.status.busy": "2023-03-20T15:25:15.766207Z",
     "iopub.status.idle": "2023-03-20T15:25:15.775077Z",
     "shell.execute_reply": "2023-03-20T15:25:15.773772Z"
    },
    "papermill": {
     "duration": 0.026298,
     "end_time": "2023-03-20T15:25:15.777765",
     "exception": false,
     "start_time": "2023-03-20T15:25:15.751467",
     "status": "completed"
    },
    "tags": []
   },
   "outputs": [],
   "source": [
    "def evaluate_model(model, x_test, y_test):\n",
    "    from sklearn import metrics\n",
    "\n",
    "    # Predict Test Data \n",
    "    y_pred = model.predict(x_test)\n",
    "\n",
    "    # Calculate accuracy, precision, recall, f1-score, and kappa score\n",
    "    acc = metrics.accuracy_score(y_test, y_pred)\n",
    "    prec = metrics.precision_score(y_test, y_pred)\n",
    "    rec = metrics.recall_score(y_test, y_pred)\n",
    "    f1 = metrics.f1_score(y_test, y_pred)\n",
    "    kappa = metrics.cohen_kappa_score(y_test, y_pred)\n",
    "\n",
    "    # Calculate area under curve (AUC)\n",
    "    y_pred_proba = model.predict_proba(x_test)[::,1]\n",
    "    fpr, tpr, _ = metrics.roc_curve(y_test, y_pred_proba)\n",
    "    auc = metrics.roc_auc_score(y_test, y_pred_proba)\n",
    "\n",
    "    # Display confussion matrix\n",
    "    cm = metrics.confusion_matrix(y_test, y_pred)\n",
    "\n",
    "    return {'acc': acc, 'prec': prec, 'rec': rec, 'f1': f1, 'kappa': kappa, \n",
    "            'fpr': fpr, 'tpr': tpr, 'auc': auc, 'cm': cm}"
   ]
  },
  {
   "cell_type": "code",
   "execution_count": 28,
   "id": "999ea714",
   "metadata": {
    "execution": {
     "iopub.execute_input": "2023-03-20T15:25:15.806255Z",
     "iopub.status.busy": "2023-03-20T15:25:15.805819Z",
     "iopub.status.idle": "2023-03-20T15:25:16.163039Z",
     "shell.execute_reply": "2023-03-20T15:25:16.161245Z"
    },
    "papermill": {
     "duration": 0.375359,
     "end_time": "2023-03-20T15:25:16.166509",
     "exception": false,
     "start_time": "2023-03-20T15:25:15.791150",
     "status": "completed"
    },
    "tags": []
   },
   "outputs": [
    {
     "name": "stdout",
     "output_type": "stream",
     "text": [
      "Accuracy: 0.750431282346176\n",
      "Precision: 0.7532894736842105\n",
      "Recall: 0.7667410714285714\n",
      "F1 Score: 0.7599557522123894\n",
      "Cohens Kappa Score: 0.5001178957854244\n",
      "Area Under Curve: 0.7499185784189122\n",
      "Confusion Matrix:\n",
      " [[618 225]\n",
      " [209 687]]\n"
     ]
    }
   ],
   "source": [
    "from sklearn import tree\n",
    "\n",
    "# Building Decision Tree model \n",
    "dtc = tree.DecisionTreeClassifier(random_state=0)\n",
    "dtc.fit(X_train, y_train)\n",
    "\n",
    "# Evaluate Model\n",
    "dtc_eval = evaluate_model(dtc, X_test, y_test)\n",
    "\n",
    "# Print result\n",
    "print('Accuracy:', dtc_eval['acc'])\n",
    "print('Precision:', dtc_eval['prec'])\n",
    "print('Recall:', dtc_eval['rec'])\n",
    "print('F1 Score:', dtc_eval['f1'])\n",
    "print('Cohens Kappa Score:', dtc_eval['kappa'])\n",
    "print('Area Under Curve:', dtc_eval['auc'])\n",
    "print('Confusion Matrix:\\n', dtc_eval['cm'])"
   ]
  },
  {
   "cell_type": "code",
   "execution_count": 29,
   "id": "f3e156e3",
   "metadata": {
    "execution": {
     "iopub.execute_input": "2023-03-20T15:25:16.195881Z",
     "iopub.status.busy": "2023-03-20T15:25:16.195420Z",
     "iopub.status.idle": "2023-03-20T15:25:17.531132Z",
     "shell.execute_reply": "2023-03-20T15:25:17.529793Z"
    },
    "papermill": {
     "duration": 1.353741,
     "end_time": "2023-03-20T15:25:17.534001",
     "exception": false,
     "start_time": "2023-03-20T15:25:16.180260",
     "status": "completed"
    },
    "tags": []
   },
   "outputs": [
    {
     "name": "stdout",
     "output_type": "stream",
     "text": [
      "Accuracy: 0.8073605520414031\n",
      "Precision: 0.8408262454434994\n",
      "Recall: 0.7723214285714286\n",
      "F1 Score: 0.8051192553810356\n",
      "Cohens Kappa Score: 0.6153480464171934\n",
      "Area Under Curve: 0.8878513705304185\n",
      "Confusion Matrix:\n",
      " [[712 131]\n",
      " [204 692]]\n"
     ]
    }
   ],
   "source": [
    "from sklearn.ensemble import RandomForestClassifier\n",
    "\n",
    "# Building Random Forest model \n",
    "rf = RandomForestClassifier(random_state=0)\n",
    "rf.fit(X_train, y_train)\n",
    "rf_eval = evaluate_model(rf, X_test, y_test)\n",
    "\n",
    "# Print result\n",
    "print('Accuracy:', rf_eval['acc'])\n",
    "print('Precision:', rf_eval['prec'])\n",
    "print('Recall:', rf_eval['rec'])\n",
    "print('F1 Score:', rf_eval['f1'])\n",
    "print('Cohens Kappa Score:', rf_eval['kappa'])\n",
    "print('Area Under Curve:', rf_eval['auc'])\n",
    "print('Confusion Matrix:\\n', rf_eval['cm'])"
   ]
  },
  {
   "cell_type": "code",
   "execution_count": 30,
   "id": "b3aece99",
   "metadata": {
    "execution": {
     "iopub.execute_input": "2023-03-20T15:25:17.562421Z",
     "iopub.status.busy": "2023-03-20T15:25:17.562005Z",
     "iopub.status.idle": "2023-03-20T15:25:17.612999Z",
     "shell.execute_reply": "2023-03-20T15:25:17.611260Z"
    },
    "papermill": {
     "duration": 0.06882,
     "end_time": "2023-03-20T15:25:17.616020",
     "exception": false,
     "start_time": "2023-03-20T15:25:17.547200",
     "status": "completed"
    },
    "tags": []
   },
   "outputs": [
    {
     "name": "stdout",
     "output_type": "stream",
     "text": [
      "Accuracy: 0.6900517538815412\n",
      "Precision: 0.6341096919609316\n",
      "Recall: 0.9419642857142857\n",
      "F1 Score: 0.7579703637180062\n",
      "Cohens Kappa Score: 0.369911017806522\n",
      "Area Under Curve: 0.8100321979325539\n",
      "Confusion Matrix:\n",
      " [[356 487]\n",
      " [ 52 844]]\n"
     ]
    }
   ],
   "source": [
    "from sklearn.naive_bayes import GaussianNB\n",
    "\n",
    "# Building Naive Bayes model \n",
    "nb = GaussianNB()\n",
    "nb.fit(X_train, y_train)\n",
    "# Evaluate Model\n",
    "nb_eval = evaluate_model(nb, X_test, y_test)\n",
    "\n",
    "# Print result\n",
    "print('Accuracy:', nb_eval['acc'])\n",
    "print('Precision:', nb_eval['prec'])\n",
    "print('Recall:', nb_eval['rec'])\n",
    "print('F1 Score:', nb_eval['f1'])\n",
    "print('Cohens Kappa Score:', nb_eval['kappa'])\n",
    "print('Area Under Curve:', nb_eval['auc'])\n",
    "print('Confusion Matrix:\\n', nb_eval['cm'])"
   ]
  },
  {
   "cell_type": "code",
   "execution_count": 31,
   "id": "354de673",
   "metadata": {
    "execution": {
     "iopub.execute_input": "2023-03-20T15:25:17.644414Z",
     "iopub.status.busy": "2023-03-20T15:25:17.644000Z",
     "iopub.status.idle": "2023-03-20T15:25:17.763196Z",
     "shell.execute_reply": "2023-03-20T15:25:17.761533Z"
    },
    "papermill": {
     "duration": 0.137034,
     "end_time": "2023-03-20T15:25:17.766400",
     "exception": false,
     "start_time": "2023-03-20T15:25:17.629366",
     "status": "completed"
    },
    "tags": []
   },
   "outputs": [
    {
     "name": "stdout",
     "output_type": "stream",
     "text": [
      "Accuracy: 0.6152961472110409\n",
      "Precision: 0.607176581680831\n",
      "Recall: 0.7176339285714286\n",
      "F1 Score: 0.6578005115089515\n",
      "Cohens Kappa Score: 0.22544751490828663\n",
      "Area Under Curve: 0.6619177364006101\n",
      "Confusion Matrix:\n",
      " [[427 416]\n",
      " [253 643]]\n"
     ]
    }
   ],
   "source": [
    "from sklearn.neighbors import KNeighborsClassifier\n",
    "\n",
    "# Building KNN model \n",
    "knn = KNeighborsClassifier()\n",
    "knn.fit(X_train, y_train)\n",
    "# Evaluate Model\n",
    "knn_eval = evaluate_model(knn, X_test, y_test)\n",
    "\n",
    "# Print result\n",
    "print('Accuracy:', knn_eval['acc'])\n",
    "print('Precision:', knn_eval['prec'])\n",
    "print('Recall:', knn_eval['rec'])\n",
    "print('F1 Score:', knn_eval['f1'])\n",
    "print('Cohens Kappa Score:', knn_eval['kappa'])\n",
    "print('Area Under Curve:', knn_eval['auc'])\n",
    "print('Confusion Matrix:\\n', knn_eval['cm'])"
   ]
  },
  {
   "cell_type": "code",
   "execution_count": 32,
   "id": "926dff7a",
   "metadata": {
    "execution": {
     "iopub.execute_input": "2023-03-20T15:25:17.795499Z",
     "iopub.status.busy": "2023-03-20T15:25:17.795078Z",
     "iopub.status.idle": "2023-03-20T15:25:18.458543Z",
     "shell.execute_reply": "2023-03-20T15:25:18.457226Z"
    },
    "papermill": {
     "duration": 0.68289,
     "end_time": "2023-03-20T15:25:18.462931",
     "exception": false,
     "start_time": "2023-03-20T15:25:17.780041",
     "status": "completed"
    },
    "tags": []
   },
   "outputs": [
    {
     "data": {
      "image/png": "[encoded data removed]",
      "text/plain": [
       "<Figure size 1400x700 with 2 Axes>"
      ]
     },
     "metadata": {},
     "output_type": "display_data"
    }
   ],
   "source": [
    "# Intitialize figure with two plots\n",
    "fig, (ax1, ax2) = plt.subplots(1, 2)\n",
    "fig.suptitle('Model Comparison', fontsize=16, fontweight='bold')\n",
    "fig.set_figheight(7)\n",
    "fig.set_figwidth(14)\n",
    "fig.set_facecolor('white')\n",
    "\n",
    "# First plot\n",
    "## set bar size\n",
    "barWidth = 0.2\n",
    "dtc_score = [dtc_eval['acc'], dtc_eval['prec'], dtc_eval['rec'], dtc_eval['f1'], dtc_eval['kappa']]\n",
    "rf_score = [rf_eval['acc'], rf_eval['prec'], rf_eval['rec'], rf_eval['f1'], rf_eval['kappa']]\n",
    "nb_score = [nb_eval['acc'], nb_eval['prec'], nb_eval['rec'], nb_eval['f1'], nb_eval['kappa']]\n",
    "knn_score = [knn_eval['acc'], knn_eval['prec'], knn_eval['rec'], knn_eval['f1'], knn_eval['kappa']]\n",
    "\n",
    "## Set position of bar on X axis\n",
    "r1 = np.arange(len(dtc_score))\n",
    "r2 = [x + barWidth for x in r1]\n",
    "r3 = [x + barWidth for x in r2]\n",
    "r4 = [x + barWidth for x in r3]\n",
    "\n",
    "## Make the plot\n",
    "ax1.bar(r1, dtc_score, width=barWidth, edgecolor='white', label='Decision Tree')\n",
    "ax1.bar(r2, rf_score, width=barWidth, edgecolor='white', label='Random Forest')\n",
    "ax1.bar(r3, nb_score, width=barWidth, edgecolor='white', label='Naive Bayes')\n",
    "ax1.bar(r4, knn_score, width=barWidth, edgecolor='white', label='K-Nearest Neighbors')\n",
    "\n",
    "## Configure x and y axis\n",
    "ax1.set_xlabel('Metrics', fontweight='bold')\n",
    "labels = ['Accuracy', 'Precision', 'Recall', 'F1', 'Kappa']\n",
    "ax1.set_xticks([r + (barWidth * 1.5) for r in range(len(dtc_score))], )\n",
    "ax1.set_xticklabels(labels)\n",
    "ax1.set_ylabel('Score', fontweight='bold')\n",
    "ax1.set_ylim(0, 1)\n",
    "\n",
    "## Create legend & title\n",
    "ax1.set_title('Evaluation Metrics', fontsize=14, fontweight='bold')\n",
    "ax1.legend()\n",
    "\n",
    "# Second plot\n",
    "## Comparing ROC Curve\n",
    "ax2.plot(dtc_eval['fpr'], dtc_eval['tpr'], label='Decision Tree, auc = {:0.5f}'.format(dtc_eval['auc']))\n",
    "ax2.plot(rf_eval['fpr'], rf_eval['tpr'], label='Random Forest, auc = {:0.5f}'.format(rf_eval['auc']))\n",
    "ax2.plot(nb_eval['fpr'], nb_eval['tpr'], label='Naive Bayes, auc = {:0.5f}'.format(nb_eval['auc']))\n",
    "ax2.plot(knn_eval['fpr'], knn_eval['tpr'], label='K-Nearest Nieghbor, auc = {:0.5f}'.format(knn_eval['auc']))\n",
    "\n",
    "## Configure x and y axis\n",
    "ax2.set_xlabel('False Positive Rate', fontweight='bold')\n",
    "ax2.set_ylabel('True Positive Rate', fontweight='bold')\n",
    "\n",
    "## Create legend & title\n",
    "ax2.set_title('ROC Curve', fontsize=14, fontweight='bold')\n",
    "ax2.legend(loc=4)\n",
    "\n",
    "plt.show()"
   ]
  },
  {
   "cell_type": "markdown",
   "id": "ca984827",
   "metadata": {
    "papermill": {
     "duration": 0.015675,
     "end_time": "2023-03-20T15:25:18.494482",
     "exception": false,
     "start_time": "2023-03-20T15:25:18.478807",
     "status": "completed"
    },
    "tags": []
   },
   "source": [
    "# Prediction of test file"
   ]
  },
  {
   "cell_type": "code",
   "execution_count": 33,
   "id": "2371cae2",
   "metadata": {
    "execution": {
     "iopub.execute_input": "2023-03-20T15:25:18.526176Z",
     "iopub.status.busy": "2023-03-20T15:25:18.525346Z",
     "iopub.status.idle": "2023-03-20T15:25:18.631943Z",
     "shell.execute_reply": "2023-03-20T15:25:18.630784Z"
    },
    "papermill": {
     "duration": 0.125842,
     "end_time": "2023-03-20T15:25:18.635047",
     "exception": false,
     "start_time": "2023-03-20T15:25:18.509205",
     "status": "completed"
    },
    "tags": []
   },
   "outputs": [],
   "source": [
    "testdf['Transported'] = rf.predict(testdf)"
   ]
  },
  {
   "cell_type": "code",
   "execution_count": 34,
   "id": "74fb2947",
   "metadata": {
    "execution": {
     "iopub.execute_input": "2023-03-20T15:25:18.667957Z",
     "iopub.status.busy": "2023-03-20T15:25:18.667095Z",
     "iopub.status.idle": "2023-03-20T15:25:18.689071Z",
     "shell.execute_reply": "2023-03-20T15:25:18.687816Z"
    },
    "papermill": {
     "duration": 0.041554,
     "end_time": "2023-03-20T15:25:18.691708",
     "exception": false,
     "start_time": "2023-03-20T15:25:18.650154",
     "status": "completed"
    },
    "tags": []
   },
   "outputs": [
    {
     "data": {
      "text/html": [
       "<div>\n",
       "<style scoped>\n",
       "    .dataframe tbody tr th:only-of-type {\n",
       "        vertical-align: middle;\n",
       "    }\n",
       "\n",
       "    .dataframe tbody tr th {\n",
       "        vertical-align: top;\n",
       "    }\n",
       "\n",
       "    .dataframe thead th {\n",
       "        text-align: right;\n",
       "    }\n",
       "</style>\n",
       "<table border=\"1\" class=\"dataframe\">\n",
       "  <thead>\n",
       "    <tr style=\"text-align: right;\">\n",
       "      <th></th>\n",
       "      <th>PassengerId</th>\n",
       "      <th>Age</th>\n",
       "      <th>RoomService</th>\n",
       "      <th>FoodCourt</th>\n",
       "      <th>ShoppingMall</th>\n",
       "      <th>Spa</th>\n",
       "      <th>VRDeck</th>\n",
       "      <th>Home_planet</th>\n",
       "      <th>Cryo_Sleep</th>\n",
       "      <th>destination</th>\n",
       "      <th>vip</th>\n",
       "      <th>deck</th>\n",
       "      <th>num</th>\n",
       "      <th>size</th>\n",
       "      <th>Transported</th>\n",
       "    </tr>\n",
       "  </thead>\n",
       "  <tbody>\n",
       "    <tr>\n",
       "      <th>0</th>\n",
       "      <td>0013_01</td>\n",
       "      <td>27.0</td>\n",
       "      <td>0.0</td>\n",
       "      <td>0.0</td>\n",
       "      <td>0.0</td>\n",
       "      <td>0.0</td>\n",
       "      <td>0.0</td>\n",
       "      <td>0</td>\n",
       "      <td>1</td>\n",
       "      <td>2</td>\n",
       "      <td>0</td>\n",
       "      <td>6</td>\n",
       "      <td>1117</td>\n",
       "      <td>1</td>\n",
       "      <td>True</td>\n",
       "    </tr>\n",
       "    <tr>\n",
       "      <th>1</th>\n",
       "      <td>0018_01</td>\n",
       "      <td>19.0</td>\n",
       "      <td>0.0</td>\n",
       "      <td>9.0</td>\n",
       "      <td>0.0</td>\n",
       "      <td>2823.0</td>\n",
       "      <td>0.0</td>\n",
       "      <td>0</td>\n",
       "      <td>0</td>\n",
       "      <td>2</td>\n",
       "      <td>0</td>\n",
       "      <td>5</td>\n",
       "      <td>1228</td>\n",
       "      <td>1</td>\n",
       "      <td>False</td>\n",
       "    </tr>\n",
       "    <tr>\n",
       "      <th>2</th>\n",
       "      <td>0019_01</td>\n",
       "      <td>31.0</td>\n",
       "      <td>0.0</td>\n",
       "      <td>0.0</td>\n",
       "      <td>0.0</td>\n",
       "      <td>0.0</td>\n",
       "      <td>0.0</td>\n",
       "      <td>1</td>\n",
       "      <td>1</td>\n",
       "      <td>0</td>\n",
       "      <td>0</td>\n",
       "      <td>2</td>\n",
       "      <td>0</td>\n",
       "      <td>1</td>\n",
       "      <td>True</td>\n",
       "    </tr>\n",
       "    <tr>\n",
       "      <th>3</th>\n",
       "      <td>0021_01</td>\n",
       "      <td>38.0</td>\n",
       "      <td>0.0</td>\n",
       "      <td>6652.0</td>\n",
       "      <td>0.0</td>\n",
       "      <td>181.0</td>\n",
       "      <td>585.0</td>\n",
       "      <td>1</td>\n",
       "      <td>0</td>\n",
       "      <td>2</td>\n",
       "      <td>0</td>\n",
       "      <td>2</td>\n",
       "      <td>1</td>\n",
       "      <td>1</td>\n",
       "      <td>True</td>\n",
       "    </tr>\n",
       "    <tr>\n",
       "      <th>4</th>\n",
       "      <td>0023_01</td>\n",
       "      <td>20.0</td>\n",
       "      <td>10.0</td>\n",
       "      <td>0.0</td>\n",
       "      <td>635.0</td>\n",
       "      <td>0.0</td>\n",
       "      <td>0.0</td>\n",
       "      <td>0</td>\n",
       "      <td>0</td>\n",
       "      <td>2</td>\n",
       "      <td>0</td>\n",
       "      <td>5</td>\n",
       "      <td>1339</td>\n",
       "      <td>1</td>\n",
       "      <td>False</td>\n",
       "    </tr>\n",
       "  </tbody>\n",
       "</table>\n",
       "</div>"
      ],
      "text/plain": [
       "  PassengerId   Age  RoomService  FoodCourt  ShoppingMall     Spa  VRDeck  \\\n",
       "0     0013_01  27.0          0.0        0.0           0.0     0.0     0.0   \n",
       "1     0018_01  19.0          0.0        9.0           0.0  2823.0     0.0   \n",
       "2     0019_01  31.0          0.0        0.0           0.0     0.0     0.0   \n",
       "3     0021_01  38.0          0.0     6652.0           0.0   181.0   585.0   \n",
       "4     0023_01  20.0         10.0        0.0         635.0     0.0     0.0   \n",
       "\n",
       "   Home_planet  Cryo_Sleep  destination  vip  deck   num  size Transported  \n",
       "0            0           1            2    0     6  1117     1        True  \n",
       "1            0           0            2    0     5  1228     1       False  \n",
       "2            1           1            0    0     2     0     1        True  \n",
       "3            1           0            2    0     2     1     1        True  \n",
       "4            0           0            2    0     5  1339     1       False  "
      ]
     },
     "execution_count": 34,
     "metadata": {},
     "output_type": "execute_result"
    }
   ],
   "source": [
    "testdf['Transported'] = testdf['Transported'].apply(lambda x: 'False' if x==0 else 'True')\n",
    "testdf.head()"
   ]
  },
  {
   "cell_type": "code",
   "execution_count": 35,
   "id": "785a3130",
   "metadata": {
    "execution": {
     "iopub.execute_input": "2023-03-20T15:25:18.724381Z",
     "iopub.status.busy": "2023-03-20T15:25:18.723942Z",
     "iopub.status.idle": "2023-03-20T15:25:18.754908Z",
     "shell.execute_reply": "2023-03-20T15:25:18.753766Z"
    },
    "papermill": {
     "duration": 0.05046,
     "end_time": "2023-03-20T15:25:18.757492",
     "exception": false,
     "start_time": "2023-03-20T15:25:18.707032",
     "status": "completed"
    },
    "tags": []
   },
   "outputs": [
    {
     "data": {
      "text/html": [
       "<div>\n",
       "<style scoped>\n",
       "    .dataframe tbody tr th:only-of-type {\n",
       "        vertical-align: middle;\n",
       "    }\n",
       "\n",
       "    .dataframe tbody tr th {\n",
       "        vertical-align: top;\n",
       "    }\n",
       "\n",
       "    .dataframe thead th {\n",
       "        text-align: right;\n",
       "    }\n",
       "</style>\n",
       "<table border=\"1\" class=\"dataframe\">\n",
       "  <thead>\n",
       "    <tr style=\"text-align: right;\">\n",
       "      <th></th>\n",
       "      <th>PassengerId</th>\n",
       "      <th>Transported</th>\n",
       "    </tr>\n",
       "  </thead>\n",
       "  <tbody>\n",
       "    <tr>\n",
       "      <th>0</th>\n",
       "      <td>0013_01</td>\n",
       "      <td>True</td>\n",
       "    </tr>\n",
       "    <tr>\n",
       "      <th>1</th>\n",
       "      <td>0018_01</td>\n",
       "      <td>False</td>\n",
       "    </tr>\n",
       "    <tr>\n",
       "      <th>2</th>\n",
       "      <td>0019_01</td>\n",
       "      <td>True</td>\n",
       "    </tr>\n",
       "    <tr>\n",
       "      <th>3</th>\n",
       "      <td>0021_01</td>\n",
       "      <td>True</td>\n",
       "    </tr>\n",
       "    <tr>\n",
       "      <th>4</th>\n",
       "      <td>0023_01</td>\n",
       "      <td>False</td>\n",
       "    </tr>\n",
       "  </tbody>\n",
       "</table>\n",
       "</div>"
      ],
      "text/plain": [
       "  PassengerId Transported\n",
       "0     0013_01        True\n",
       "1     0018_01       False\n",
       "2     0019_01        True\n",
       "3     0021_01        True\n",
       "4     0023_01       False"
      ]
     },
     "execution_count": 35,
     "metadata": {},
     "output_type": "execute_result"
    }
   ],
   "source": [
    "sample_submission_df = pd.read_csv('/kaggle/input/spaceship-titanic/sample_submission.csv')\n",
    "sample_submission_df['Transported'] = testdf['Transported']\n",
    "sample_submission_df.to_csv('/kaggle/working/submission.csv', index=False)\n",
    "sample_submission_df.head()"
   ]
  }
 ],
 "metadata": {
  "kernelspec": {
   "display_name": "Python 3",
   "language": "python",
   "name": "python3"
  },
  "language_info": {
   "codemirror_mode": {
    "name": "ipython",
    "version": 3
   },
   "file_extension": ".py",
   "mimetype": "text/x-python",
   "name": "python",
   "nbconvert_exporter": "python",
   "pygments_lexer": "ipython3",
   "version": "3.7.12"
  },
  "papermill": {
   "default_parameters": {},
   "duration": 16.941783,
   "end_time": "2023-03-20T15:25:19.595413",
   "environment_variables": {},
   "exception": null,
   "input_path": "__notebook__.ipynb",
   "output_path": "__notebook__.ipynb",
   "parameters": {},
   "start_time": "2023-03-20T15:25:02.653630",
   "version": "2.4.0"
  }
 },
 "nbformat": 4,
 "nbformat_minor": 5
}
